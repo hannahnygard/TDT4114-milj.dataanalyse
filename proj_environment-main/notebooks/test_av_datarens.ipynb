{
 "cells": [
  {
   "cell_type": "code",
   "execution_count": 2,
   "metadata": {},
   "outputs": [],
   "source": [
    "import sys\n",
    "import os\n",
    "\n",
    "# Legg til src-mappen i sys.path\n",
    "sys.path.append(os.path.abspath(os.path.join(os.getcwd(), '../src')))\n",
    "\n",
    "from data_rens import DataRens"
   ]
  },
  {
   "cell_type": "markdown",
   "metadata": {},
   "source": [
    "# Nedbør:"
   ]
  },
  {
   "cell_type": "code",
   "execution_count": 3,
   "metadata": {},
   "outputs": [
    {
     "name": "stdout",
     "output_type": "stream",
     "text": [
      "Antall duplikater funnet: 0\n",
      "Det er ingen datoer som mangler verdier!\n"
     ]
    },
    {
     "data": {
      "text/html": [
       "<div>\n",
       "<style scoped>\n",
       "    .dataframe tbody tr th:only-of-type {\n",
       "        vertical-align: middle;\n",
       "    }\n",
       "\n",
       "    .dataframe tbody tr th {\n",
       "        vertical-align: top;\n",
       "    }\n",
       "\n",
       "    .dataframe thead th {\n",
       "        text-align: right;\n",
       "    }\n",
       "</style>\n",
       "<table border=\"1\" class=\"dataframe\">\n",
       "  <thead>\n",
       "    <tr style=\"text-align: right;\">\n",
       "      <th></th>\n",
       "      <th>year</th>\n",
       "      <th>value</th>\n",
       "      <th>avg_per_day</th>\n",
       "      <th>unit</th>\n",
       "      <th>days</th>\n",
       "    </tr>\n",
       "  </thead>\n",
       "  <tbody>\n",
       "    <tr>\n",
       "      <th>0</th>\n",
       "      <td>1980</td>\n",
       "      <td>766.8</td>\n",
       "      <td>2.10</td>\n",
       "      <td>mm</td>\n",
       "      <td>366</td>\n",
       "    </tr>\n",
       "    <tr>\n",
       "      <th>1</th>\n",
       "      <td>1981</td>\n",
       "      <td>712.2</td>\n",
       "      <td>1.95</td>\n",
       "      <td>mm</td>\n",
       "      <td>365</td>\n",
       "    </tr>\n",
       "    <tr>\n",
       "      <th>2</th>\n",
       "      <td>1982</td>\n",
       "      <td>840.5</td>\n",
       "      <td>2.30</td>\n",
       "      <td>mm</td>\n",
       "      <td>365</td>\n",
       "    </tr>\n",
       "    <tr>\n",
       "      <th>3</th>\n",
       "      <td>1983</td>\n",
       "      <td>646.1</td>\n",
       "      <td>1.77</td>\n",
       "      <td>mm</td>\n",
       "      <td>365</td>\n",
       "    </tr>\n",
       "    <tr>\n",
       "      <th>4</th>\n",
       "      <td>1984</td>\n",
       "      <td>871.4</td>\n",
       "      <td>2.38</td>\n",
       "      <td>mm</td>\n",
       "      <td>366</td>\n",
       "    </tr>\n",
       "  </tbody>\n",
       "</table>\n",
       "</div>"
      ],
      "text/plain": [
       "   year  value  avg_per_day unit  days\n",
       "0  1980  766.8         2.10   mm   366\n",
       "1  1981  712.2         1.95   mm   365\n",
       "2  1982  840.5         2.30   mm   365\n",
       "3  1983  646.1         1.77   mm   365\n",
       "4  1984  871.4         2.38   mm   366"
      ]
     },
     "metadata": {},
     "output_type": "display_data"
    }
   ],
   "source": [
    "#Oppretter filstien til JSONfil med nedbør\n",
    "nedbor_fil = \"../data/frost_nedbor.json\"\n",
    "\n",
    "#Oppreter et nedbørs-objekt i DataRens() \n",
    "rens_nedbor = DataRens()\n",
    "\n",
    "#Bruker metode fra klassen for å konvertere JSON til dataframe\n",
    "df_nedbor = rens_nedbor.fra_json_til_dataframe(nedbor_fil)\n",
    "\n",
    "#Bruke metode for å rense Dataframen\n",
    "df_nedbor_renset = rens_nedbor.rens_DataFrame(df_nedbor)\n",
    "\n",
    "#Nye gjennomsnittlige verdier\n",
    "df_med_gjennomsnittlige_verdier = rens_nedbor.nye_nedbør_verdier(df_nedbor_renset)\n",
    "\n",
    "#Printer ut renset dataframe av nedbør:\n",
    "display(df_med_gjennomsnittlige_verdier.head())\n",
    "\n",
    "\n",
    "\n",
    "\n",
    "\n"
   ]
  },
  {
   "cell_type": "markdown",
   "metadata": {},
   "source": [
    "# Skydekke:"
   ]
  },
  {
   "cell_type": "code",
   "execution_count": 19,
   "metadata": {},
   "outputs": [
    {
     "name": "stdout",
     "output_type": "stream",
     "text": [
      "Suksess! JSON er nå omgjort til en database\n"
     ]
    },
    {
     "ename": "KeyError",
     "evalue": "'referenceTime'",
     "output_type": "error",
     "traceback": [
      "\u001b[31m---------------------------------------------------------------------------\u001b[39m",
      "\u001b[31mKeyError\u001b[39m                                  Traceback (most recent call last)",
      "\u001b[36mFile \u001b[39m\u001b[32mc:\\Anvendt_programmering\\TDT4114-milj.dataanalyse\\proj_environment-main\\venv\\Lib\\site-packages\\pandas\\core\\indexes\\base.py:3805\u001b[39m, in \u001b[36mIndex.get_loc\u001b[39m\u001b[34m(self, key)\u001b[39m\n\u001b[32m   3804\u001b[39m \u001b[38;5;28;01mtry\u001b[39;00m:\n\u001b[32m-> \u001b[39m\u001b[32m3805\u001b[39m     \u001b[38;5;28;01mreturn\u001b[39;00m \u001b[38;5;28;43mself\u001b[39;49m\u001b[43m.\u001b[49m\u001b[43m_engine\u001b[49m\u001b[43m.\u001b[49m\u001b[43mget_loc\u001b[49m\u001b[43m(\u001b[49m\u001b[43mcasted_key\u001b[49m\u001b[43m)\u001b[49m\n\u001b[32m   3806\u001b[39m \u001b[38;5;28;01mexcept\u001b[39;00m \u001b[38;5;167;01mKeyError\u001b[39;00m \u001b[38;5;28;01mas\u001b[39;00m err:\n",
      "\u001b[36mFile \u001b[39m\u001b[32mindex.pyx:167\u001b[39m, in \u001b[36mpandas._libs.index.IndexEngine.get_loc\u001b[39m\u001b[34m()\u001b[39m\n",
      "\u001b[36mFile \u001b[39m\u001b[32mindex.pyx:196\u001b[39m, in \u001b[36mpandas._libs.index.IndexEngine.get_loc\u001b[39m\u001b[34m()\u001b[39m\n",
      "\u001b[36mFile \u001b[39m\u001b[32mpandas\\\\_libs\\\\hashtable_class_helper.pxi:7081\u001b[39m, in \u001b[36mpandas._libs.hashtable.PyObjectHashTable.get_item\u001b[39m\u001b[34m()\u001b[39m\n",
      "\u001b[36mFile \u001b[39m\u001b[32mpandas\\\\_libs\\\\hashtable_class_helper.pxi:7089\u001b[39m, in \u001b[36mpandas._libs.hashtable.PyObjectHashTable.get_item\u001b[39m\u001b[34m()\u001b[39m\n",
      "\u001b[31mKeyError\u001b[39m: 'referenceTime'",
      "\nThe above exception was the direct cause of the following exception:\n",
      "\u001b[31mKeyError\u001b[39m                                  Traceback (most recent call last)",
      "\u001b[36mCell\u001b[39m\u001b[36m \u001b[39m\u001b[32mIn[19]\u001b[39m\u001b[32m, line 26\u001b[39m\n\u001b[32m     22\u001b[39m database = rens_skydekke.database_opprettelse(skydekke_fil)\n\u001b[32m     24\u001b[39m df_skydekke = rens_skydekke.fra_database_til_dataframe()\n\u001b[32m---> \u001b[39m\u001b[32m26\u001b[39m df_skydekke_renset = \u001b[43mrens_skydekke\u001b[49m\u001b[43m.\u001b[49m\u001b[43mrens_DataFrame\u001b[49m\u001b[43m(\u001b[49m\u001b[43mdf_skydekke\u001b[49m\u001b[43m)\u001b[49m\n\u001b[32m     28\u001b[39m display(df_skydekke_renset.head())\n",
      "\u001b[36mFile \u001b[39m\u001b[32mc:\\Anvendt_programmering\\TDT4114-milj.dataanalyse\\proj_environment-main\\src\\data_rens.py:88\u001b[39m, in \u001b[36mrens_DataFrame\u001b[39m\u001b[34m(self, df)\u001b[39m\n\u001b[32m     86\u001b[39m \u001b[38;5;66;03m#For hver observasjon kan vi lage en rad med informasjonen vi trenger\u001b[39;00m\n\u001b[32m     87\u001b[39m     \u001b[38;5;28;01mfor\u001b[39;00m observation \u001b[38;5;129;01min\u001b[39;00m obs.get(\u001b[33m'\u001b[39m\u001b[33mobservations\u001b[39m\u001b[33m'\u001b[39m, []):\n\u001b[32m---> \u001b[39m\u001b[32m88\u001b[39m         rader.append({\n\u001b[32m     89\u001b[39m             \u001b[33m'\u001b[39m\u001b[33msourceId\u001b[39m\u001b[33m'\u001b[39m: source_id,\n\u001b[32m     90\u001b[39m             \u001b[33m'\u001b[39m\u001b[33mreferenceTime\u001b[39m\u001b[33m'\u001b[39m: reference_time,\n\u001b[32m     91\u001b[39m             \u001b[33m'\u001b[39m\u001b[33melementId\u001b[39m\u001b[33m'\u001b[39m: observation.get(\u001b[33m'\u001b[39m\u001b[33melementId\u001b[39m\u001b[33m'\u001b[39m, \u001b[38;5;28;01mNone\u001b[39;00m),\n\u001b[32m     92\u001b[39m             \u001b[33m'\u001b[39m\u001b[33mvalue\u001b[39m\u001b[33m'\u001b[39m: observation.get(\u001b[33m'\u001b[39m\u001b[33mvalue\u001b[39m\u001b[33m'\u001b[39m, \u001b[38;5;28;01mNone\u001b[39;00m),\n\u001b[32m     93\u001b[39m             \u001b[33m'\u001b[39m\u001b[33munit\u001b[39m\u001b[33m'\u001b[39m: observation.get(\u001b[33m'\u001b[39m\u001b[33munit\u001b[39m\u001b[33m'\u001b[39m, \u001b[38;5;28;01mNone\u001b[39;00m),\n\u001b[32m     94\u001b[39m             \u001b[33m'\u001b[39m\u001b[33mtimeOffset\u001b[39m\u001b[33m'\u001b[39m: observation.get(\u001b[33m'\u001b[39m\u001b[33mtimeOffset\u001b[39m\u001b[33m'\u001b[39m, \u001b[38;5;28;01mNone\u001b[39;00m),\n\u001b[32m     95\u001b[39m             \u001b[33m'\u001b[39m\u001b[33mperformanceCategory\u001b[39m\u001b[33m'\u001b[39m: observation.get(\u001b[33m'\u001b[39m\u001b[33mperformanceCategory\u001b[39m\u001b[33m'\u001b[39m, \u001b[38;5;28;01mNone\u001b[39;00m)\n\u001b[32m     96\u001b[39m         })\n\u001b[32m     99\u001b[39m \u001b[38;5;66;03m#Lag en Pandas DataFrame\u001b[39;00m\n\u001b[32m    100\u001b[39m df = pd.DataFrame(rader)\n",
      "\u001b[36mFile \u001b[39m\u001b[32mc:\\Anvendt_programmering\\TDT4114-milj.dataanalyse\\proj_environment-main\\venv\\Lib\\site-packages\\pandas\\core\\frame.py:4102\u001b[39m, in \u001b[36mDataFrame.__getitem__\u001b[39m\u001b[34m(self, key)\u001b[39m\n\u001b[32m   4100\u001b[39m \u001b[38;5;28;01mif\u001b[39;00m \u001b[38;5;28mself\u001b[39m.columns.nlevels > \u001b[32m1\u001b[39m:\n\u001b[32m   4101\u001b[39m     \u001b[38;5;28;01mreturn\u001b[39;00m \u001b[38;5;28mself\u001b[39m._getitem_multilevel(key)\n\u001b[32m-> \u001b[39m\u001b[32m4102\u001b[39m indexer = \u001b[38;5;28;43mself\u001b[39;49m\u001b[43m.\u001b[49m\u001b[43mcolumns\u001b[49m\u001b[43m.\u001b[49m\u001b[43mget_loc\u001b[49m\u001b[43m(\u001b[49m\u001b[43mkey\u001b[49m\u001b[43m)\u001b[49m\n\u001b[32m   4103\u001b[39m \u001b[38;5;28;01mif\u001b[39;00m is_integer(indexer):\n\u001b[32m   4104\u001b[39m     indexer = [indexer]\n",
      "\u001b[36mFile \u001b[39m\u001b[32mc:\\Anvendt_programmering\\TDT4114-milj.dataanalyse\\proj_environment-main\\venv\\Lib\\site-packages\\pandas\\core\\indexes\\base.py:3812\u001b[39m, in \u001b[36mIndex.get_loc\u001b[39m\u001b[34m(self, key)\u001b[39m\n\u001b[32m   3807\u001b[39m     \u001b[38;5;28;01mif\u001b[39;00m \u001b[38;5;28misinstance\u001b[39m(casted_key, \u001b[38;5;28mslice\u001b[39m) \u001b[38;5;129;01mor\u001b[39;00m (\n\u001b[32m   3808\u001b[39m         \u001b[38;5;28misinstance\u001b[39m(casted_key, abc.Iterable)\n\u001b[32m   3809\u001b[39m         \u001b[38;5;129;01mand\u001b[39;00m \u001b[38;5;28many\u001b[39m(\u001b[38;5;28misinstance\u001b[39m(x, \u001b[38;5;28mslice\u001b[39m) \u001b[38;5;28;01mfor\u001b[39;00m x \u001b[38;5;129;01min\u001b[39;00m casted_key)\n\u001b[32m   3810\u001b[39m     ):\n\u001b[32m   3811\u001b[39m         \u001b[38;5;28;01mraise\u001b[39;00m InvalidIndexError(key)\n\u001b[32m-> \u001b[39m\u001b[32m3812\u001b[39m     \u001b[38;5;28;01mraise\u001b[39;00m \u001b[38;5;167;01mKeyError\u001b[39;00m(key) \u001b[38;5;28;01mfrom\u001b[39;00m\u001b[38;5;250m \u001b[39m\u001b[34;01merr\u001b[39;00m\n\u001b[32m   3813\u001b[39m \u001b[38;5;28;01mexcept\u001b[39;00m \u001b[38;5;167;01mTypeError\u001b[39;00m:\n\u001b[32m   3814\u001b[39m     \u001b[38;5;66;03m# If we have a listlike key, _check_indexing_error will raise\u001b[39;00m\n\u001b[32m   3815\u001b[39m     \u001b[38;5;66;03m#  InvalidIndexError. Otherwise we fall through and re-raise\u001b[39;00m\n\u001b[32m   3816\u001b[39m     \u001b[38;5;66;03m#  the TypeError.\u001b[39;00m\n\u001b[32m   3817\u001b[39m     \u001b[38;5;28mself\u001b[39m._check_indexing_error(key)\n",
      "\u001b[31mKeyError\u001b[39m: 'referenceTime'"
     ]
    }
   ],
   "source": [
    "'''#Oppretter filstien til JSONfil med nedbør\n",
    "skydekke_fil = \"../data/frost_skydekke.json\"\n",
    "\n",
    "#Oppreter et nedbørs-objekt i DataRens() \n",
    "rens_skydekke = DataRens()\n",
    "\n",
    "#Bruker metode fra klassen for å konvertere JSON til dataframe\n",
    "df_skydekke = rens_skydekke.fra_json_til_dataframe(skydekke_fil)\n",
    "\n",
    "#Bruke metode for å rense Dataframen\n",
    "df_skydekke_renset = rens_nedbor.rens_DataFrame(df_skydekke)\n",
    "\n",
    "#Printer ut renset dataframe av nedbør:\n",
    "display(df_skydekke_renset.head())\n",
    "\n",
    "'''\n",
    "\n",
    "skydekke_fil = \"../data/frost_skydekke.json\"\n",
    "\n",
    "rens_skydekke = DataRens()\n",
    "\n",
    "database = rens_skydekke.database_opprettelse(skydekke_fil)\n",
    "\n",
    "df_skydekke = rens_skydekke.fra_database_til_dataframe()\n",
    "\n",
    "df_skydekke_renset = rens_skydekke.rens_DataFrame(df_skydekke)\n",
    "\n",
    "display(df_skydekke_renset.head())\n",
    "\n",
    "\n",
    "\n",
    "\n"
   ]
  },
  {
   "cell_type": "markdown",
   "metadata": {},
   "source": [
    "# Temperatur:"
   ]
  },
  {
   "cell_type": "code",
   "execution_count": 8,
   "metadata": {},
   "outputs": [
    {
     "name": "stdout",
     "output_type": "stream",
     "text": [
      "Antall duplikater funnet: 0\n",
      "Det er ingen datoer som mangler verdier!\n"
     ]
    },
    {
     "data": {
      "text/html": [
       "<div>\n",
       "<style scoped>\n",
       "    .dataframe tbody tr th:only-of-type {\n",
       "        vertical-align: middle;\n",
       "    }\n",
       "\n",
       "    .dataframe tbody tr th {\n",
       "        vertical-align: top;\n",
       "    }\n",
       "\n",
       "    .dataframe thead th {\n",
       "        text-align: right;\n",
       "    }\n",
       "</style>\n",
       "<table border=\"1\" class=\"dataframe\">\n",
       "  <thead>\n",
       "    <tr style=\"text-align: right;\">\n",
       "      <th></th>\n",
       "      <th>year</th>\n",
       "      <th>value</th>\n",
       "      <th>unit</th>\n",
       "    </tr>\n",
       "  </thead>\n",
       "  <tbody>\n",
       "    <tr>\n",
       "      <th>0</th>\n",
       "      <td>1980</td>\n",
       "      <td>5.4</td>\n",
       "      <td>degC</td>\n",
       "    </tr>\n",
       "    <tr>\n",
       "      <th>1</th>\n",
       "      <td>1981</td>\n",
       "      <td>5.2</td>\n",
       "      <td>degC</td>\n",
       "    </tr>\n",
       "    <tr>\n",
       "      <th>2</th>\n",
       "      <td>1982</td>\n",
       "      <td>6.2</td>\n",
       "      <td>degC</td>\n",
       "    </tr>\n",
       "    <tr>\n",
       "      <th>3</th>\n",
       "      <td>1983</td>\n",
       "      <td>7.0</td>\n",
       "      <td>degC</td>\n",
       "    </tr>\n",
       "    <tr>\n",
       "      <th>4</th>\n",
       "      <td>1984</td>\n",
       "      <td>6.7</td>\n",
       "      <td>degC</td>\n",
       "    </tr>\n",
       "  </tbody>\n",
       "</table>\n",
       "</div>"
      ],
      "text/plain": [
       "   year  value  unit\n",
       "0  1980    5.4  degC\n",
       "1  1981    5.2  degC\n",
       "2  1982    6.2  degC\n",
       "3  1983    7.0  degC\n",
       "4  1984    6.7  degC"
      ]
     },
     "metadata": {},
     "output_type": "display_data"
    }
   ],
   "source": [
    "#Oppretter filstien til JSONfil med nedbør\n",
    "temp_fil = \"../data/frost_temp.json\"\n",
    "\n",
    "#Oppreter et nedbørs-objekt i DataRens() \n",
    "rens_temp = DataRens()\n",
    "\n",
    "#Bruker metode fra klassen for å konvertere JSON til dataframe\n",
    "df_temp = rens_temp.fra_json_til_dataframe(temp_fil)\n",
    "\n",
    "#Bruke metode for å rense Dataframen\n",
    "df_temp_renset = rens_temp.rens_DataFrame(df_temp)\n",
    "\n",
    "#Printer ut renset dataframe av nedbør:\n",
    "display(df_temp_renset.head())\n",
    "\n",
    "\n",
    "\n",
    "\n",
    "\n"
   ]
  }
 ],
 "metadata": {
  "kernelspec": {
   "display_name": "venv",
   "language": "python",
   "name": "python3"
  },
  "language_info": {
   "codemirror_mode": {
    "name": "ipython",
    "version": 3
   },
   "file_extension": ".py",
   "mimetype": "text/x-python",
   "name": "python",
   "nbconvert_exporter": "python",
   "pygments_lexer": "ipython3",
   "version": "3.11.9"
  }
 },
 "nbformat": 4,
 "nbformat_minor": 2
}
