{
 "cells": [
  {
   "cell_type": "code",
   "execution_count": null,
   "metadata": {},
   "outputs": [],
   "source": [
    "import sys\n",
    "import os\n",
    "\n",
    "# Legg til src-mappen i sys.path\n",
    "sys.path.append(os.path.abspath(os.path.join(os.getcwd(), '../src')))\n",
    "\n",
    "from data_rens import DataRens\n",
    "from statistiske_maal import Statistiske_maal\n",
    "from data_manipulering import DataManipulering\n"
   ]
  },
  {
   "cell_type": "markdown",
   "metadata": {},
   "source": [
    "# Skydekke - her må Hannah sjekke mtp. database:"
   ]
  },
  {
   "cell_type": "markdown",
   "metadata": {},
   "source": [
    "* Oppretter et objekt av klassen DataRens\n",
    "* Bruker metodene for å opprette en dataframe og rense denne"
   ]
  },
  {
   "cell_type": "code",
   "execution_count": 2,
   "metadata": {},
   "outputs": [
    {
     "name": "stdout",
     "output_type": "stream",
     "text": [
      "Antall duplikater funnet: 0\n",
      "Det er ingen datoer som mangler verdier!\n"
     ]
    }
   ],
   "source": [
    "#Oppretter filstien til JSONfil med nedbør\n",
    "skydekke_fil = \"../data/frost_skydekke.json\"\n",
    "\n",
    "#Oppreter et nedbørs-objekt i DataRens() \n",
    "rens_skydekke = DataRens()\n",
    "\n",
    "#Bruker metode fra klassen for å konvertere JSON til dataframe\n",
    "df_skydekke = rens_skydekke.fra_json_til_dataframe(skydekke_fil)\n",
    "\n",
    "#Bruke metode for å rense Dataframen\n",
    "df_skydekke_renset = rens_skydekke.rens_DataFrame(df_skydekke)\n",
    "\n",
    "#Printer ut renset dataframe av nedbør:\n",
    "#display(df_temp_renset.head())\n"
   ]
  },
  {
   "cell_type": "markdown",
   "metadata": {},
   "source": [
    "*Beregninger*: <br>\n",
    "Beregningene gjøres i 4 intervaller: <br>\n",
    "1980-1989 <br>\n",
    "1990-1999 <br>\n",
    "2000-2009 <br>\n",
    "2010-2020 <br>\n",
    "\n",
    "Samt en beregning for hele intervallet i sin helhet (1980-2020)"
   ]
  },
  {
   "cell_type": "markdown",
   "metadata": {},
   "source": [
    "**Beregning av gjennomsnitt**\n"
   ]
  },
  {
   "cell_type": "code",
   "execution_count": 4,
   "metadata": {},
   "outputs": [
    {
     "name": "stdout",
     "output_type": "stream",
     "text": [
      "Gjennomsnitt i 4 intervaller + totalt: \n",
      "1980-1989: 5.24 octas\n",
      "1990-1999: 5.41 octas\n",
      "2000-2009: 5.58 octas\n",
      "2010-2020: 5.59 octas\n",
      "Totalt: 5.46 octas\n"
     ]
    }
   ],
   "source": [
    "skydekke_mål = Statistiske_maal()\n",
    "\n",
    "gjennomsnitt_skydekke = skydekke_mål.gjennomsnitt(df_skydekke_renset)\n",
    "\n",
    "print(\"Gjennomsnitt i 4 intervaller + totalt: \")\n",
    "for key, value in gjennomsnitt_skydekke.items():\n",
    "    print(f\"{key}: {value} octas\")\n"
   ]
  },
  {
   "cell_type": "markdown",
   "metadata": {},
   "source": [
    "**Beregning av median**"
   ]
  },
  {
   "cell_type": "code",
   "execution_count": 5,
   "metadata": {},
   "outputs": [
    {
     "name": "stdout",
     "output_type": "stream",
     "text": [
      "Median i 4 intervaller + totalt: \n",
      "1980-1989: 5.2 octas\n",
      "1990-1999: 5.3 octas\n",
      "2000-2009: 5.6 octas\n",
      "2010-2020: 5.6 octas\n",
      "Totalt: 5.5 octas\n"
     ]
    }
   ],
   "source": [
    "median_skydekke = skydekke_mål.median(df_skydekke_renset)\n",
    "\n",
    "print(\"Median i 4 intervaller + totalt: \")\n",
    "for key, value in median_skydekke.items():\n",
    "    print(f\"{key}: {value} octas\")"
   ]
  },
  {
   "cell_type": "markdown",
   "metadata": {},
   "source": [
    "**Beregning av standardavvik**"
   ]
  },
  {
   "cell_type": "code",
   "execution_count": 6,
   "metadata": {},
   "outputs": [
    {
     "name": "stdout",
     "output_type": "stream",
     "text": [
      "Standardavvik i 4 intervaller + totalt: \n",
      "1980-1989: 0.16 octas\n",
      "1990-1999: 0.26 octas\n",
      "2000-2009: 0.11 octas\n",
      "2010-2020: 0.21 octas\n",
      "Totalt: 0.24 octas\n"
     ]
    }
   ],
   "source": [
    "standardavvik_skydekke = skydekke_mål.standardavvik(df_skydekke_renset)\n",
    "\n",
    "print(\"Standardavvik i 4 intervaller + totalt: \")\n",
    "for key, value in standardavvik_skydekke.items():\n",
    "    print(f\"{key}: {value} octas\")"
   ]
  }
 ],
 "metadata": {
  "kernelspec": {
   "display_name": "venv",
   "language": "python",
   "name": "python3"
  },
  "language_info": {
   "codemirror_mode": {
    "name": "ipython",
    "version": 3
   },
   "file_extension": ".py",
   "mimetype": "text/x-python",
   "name": "python",
   "nbconvert_exporter": "python",
   "pygments_lexer": "ipython3",
   "version": "3.11.9"
  }
 },
 "nbformat": 4,
 "nbformat_minor": 2
}
