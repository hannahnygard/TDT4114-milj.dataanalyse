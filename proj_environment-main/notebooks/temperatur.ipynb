{
 "cells": [
  {
   "cell_type": "code",
   "execution_count": 1,
   "metadata": {},
   "outputs": [],
   "source": [
    "import sys\n",
    "import os\n",
    "\n",
    "# Legg til src-mappen i sys.path\n",
    "sys.path.append(os.path.abspath(os.path.join(os.getcwd(), '../src')))\n",
    "\n",
    "from data_rens import DataRens\n",
    "from statistiske_maal import Statistiske_maal"
   ]
  },
  {
   "cell_type": "markdown",
   "metadata": {},
   "source": [
    "# Temperatur:"
   ]
  },
  {
   "cell_type": "markdown",
   "metadata": {},
   "source": [
    "* Oppretter et objekt av klassen DataRens\n",
    "* Bruker metodene for å opprette en dataframe og rense denne"
   ]
  },
  {
   "cell_type": "code",
   "execution_count": 2,
   "metadata": {},
   "outputs": [
    {
     "name": "stdout",
     "output_type": "stream",
     "text": [
      "Antall duplikater funnet: 0\n",
      "Det er ingen datoer som mangler verdier!\n"
     ]
    }
   ],
   "source": [
    "#Oppretter filstien til JSONfil med nedbør\n",
    "temp_fil = \"../data/frost_temp.json\"\n",
    "\n",
    "#Oppreter et nedbørs-objekt i DataRens() \n",
    "rens_temp = DataRens()\n",
    "\n",
    "#Bruker metode fra klassen for å konvertere JSON til dataframe\n",
    "df_temp = rens_temp.fra_json_til_dataframe(temp_fil)\n",
    "\n",
    "#Bruke metode for å rense Dataframen\n",
    "df_temp_renset = rens_temp.rens_DataFrame(df_temp)\n",
    "\n",
    "#Printer ut renset dataframe av nedbør:\n",
    "#display(df_temp_renset.head())\n"
   ]
  },
  {
   "cell_type": "markdown",
   "metadata": {},
   "source": [
    "*Beregninger*: <br>\n",
    "Beregningene gjøres i 4 intervaller: <br>\n",
    "1980-1989 <br>\n",
    "1990-1999 <br>\n",
    "2000-2009 <br>\n",
    "2010-2020 <br>\n",
    "\n",
    "Samt en beregning for hele intervallet i sin helhet (1980-2020)"
   ]
  },
  {
   "cell_type": "markdown",
   "metadata": {},
   "source": [
    "**Beregning av gjennomsnitt**\n"
   ]
  },
  {
   "cell_type": "code",
   "execution_count": 3,
   "metadata": {},
   "outputs": [
    {
     "name": "stdout",
     "output_type": "stream",
     "text": [
      "Gjennomsnitt i 4 intervaller + totalt:  [5.93, 6.61, 7.17, 7.22, 7]\n"
     ]
    }
   ],
   "source": [
    "temp_mål = Statistiske_maal()\n",
    "\n",
    "gjennomsnitt_temp = temp_mål.gjennomsnitt(df_temp_renset)\n",
    "print(\"Gjennomsnitt i 4 intervaller + totalt: \", gjennomsnitt_temp)\n"
   ]
  },
  {
   "cell_type": "markdown",
   "metadata": {},
   "source": [
    "**Beregning av median**"
   ]
  },
  {
   "cell_type": "code",
   "execution_count": 4,
   "metadata": {},
   "outputs": [
    {
     "name": "stdout",
     "output_type": "stream",
     "text": [
      "Median i 4 intervaller + totalt:  [6.0, 7.0, 7.0, 7.0, 7.0]\n"
     ]
    }
   ],
   "source": [
    "median_temp = temp_mål.median(df_temp_renset)\n",
    "print(\"Median i 4 intervaller + totalt: \", median_temp)"
   ]
  },
  {
   "cell_type": "markdown",
   "metadata": {},
   "source": [
    "**Beregning av standardavvik**"
   ]
  },
  {
   "cell_type": "code",
   "execution_count": 6,
   "metadata": {},
   "outputs": [
    {
     "name": "stdout",
     "output_type": "stream",
     "text": [
      "Standardavvik i 4 intervaller + totalt:  [1.08, 0.68, 0.48, 1.01, 0.98]\n"
     ]
    }
   ],
   "source": [
    "standardavvik_temp = temp_mål.standardavvik(df_temp_renset)\n",
    "print(\"Standardavvik i 4 intervaller + totalt: \", standardavvik_temp)"
   ]
  }
 ],
 "metadata": {
  "kernelspec": {
   "display_name": "venv",
   "language": "python",
   "name": "python3"
  },
  "language_info": {
   "codemirror_mode": {
    "name": "ipython",
    "version": 3
   },
   "file_extension": ".py",
   "mimetype": "text/x-python",
   "name": "python",
   "nbconvert_exporter": "python",
   "pygments_lexer": "ipython3",
   "version": "3.13.2"
  }
 },
 "nbformat": 4,
 "nbformat_minor": 2
}
