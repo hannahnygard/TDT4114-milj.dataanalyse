{
 "cells": [
  {
   "cell_type": "code",
   "execution_count": null,
   "metadata": {},
   "outputs": [],
   "source": [
    "import sys\n",
    "import os\n",
    "import matplotlib.pyplot as plt\n",
    "import pandas as pd\n",
    "import seaborn as sns\n",
    "\n",
    "\n",
    "# Legg til src-mappen i sys.path\n",
    "sys.path.append(os.path.abspath(os.path.join(os.getcwd(), '../src')))\n",
    "\n",
    "from data_rens import DataRens\n",
    "from statistiske_maal import Statistiske_maal\n",
    "from data_manipulering import DataManipulering"
   ]
  },
  {
   "cell_type": "markdown",
   "metadata": {},
   "source": [
    "# Temperatur:"
   ]
  },
  {
   "cell_type": "markdown",
   "metadata": {},
   "source": [
    "* Oppretter et objekt av klassen DataRens og DataManipulering\n",
    "* Bruker metodene for å opprette en dataframe og manipulere feil i denne"
   ]
  },
  {
   "cell_type": "code",
   "execution_count": null,
   "metadata": {},
   "outputs": [],
   "source": [
    "# Oppretter filstien til JSONfil med nedbør\n",
    "temp_fil = \"../data/frost_temp.json\"\n",
    "\n",
    "# Oppretter et nedbørs-objekt i DataRens()\n",
    "rens_temp = DataRens()\n",
    "manip_temp = DataManipulering()\n",
    "\n",
    "\n",
    "# Lager DataFrame av en JSON\n",
    "df = rens_temp.fra_json_til_dataframe(temp_fil)\n",
    "\n",
    "\n",
    "### Manipulerer dataen:\n",
    "df_fjern_verdi = manip_temp.fjern_verdi_for_tilfeldig_aar(df)\n",
    "df_legg_til_duplikater = manip_temp.legg_til_duplikater_for_tilfeldig_aar(df_fjern_verdi)\n",
    "\n",
    "\n",
    "#Viser den manipulerte dataframen:\n",
    "display(df_legg_til_duplikater.head())\n",
    "\n"
   ]
  },
  {
   "cell_type": "markdown",
   "metadata": {},
   "source": [
    "# Datarens av temperatur\n",
    "- Bruker metode fra DataRens for å rense dataframen"
   ]
  },
  {
   "cell_type": "code",
   "execution_count": 1,
   "metadata": {},
   "outputs": [
    {
     "ename": "ModuleNotFoundError",
     "evalue": "No module named 'data_rens'",
     "output_type": "error",
     "traceback": [
      "\u001b[31m---------------------------------------------------------------------------\u001b[39m",
      "\u001b[31mModuleNotFoundError\u001b[39m                       Traceback (most recent call last)",
      "\u001b[36mCell\u001b[39m\u001b[36m \u001b[39m\u001b[32mIn[1]\u001b[39m\u001b[32m, line 1\u001b[39m\n\u001b[32m----> \u001b[39m\u001b[32m1\u001b[39m \u001b[38;5;28;01mfrom\u001b[39;00m\u001b[38;5;250m \u001b[39m\u001b[34;01mdata_rens\u001b[39;00m\u001b[38;5;250m \u001b[39m\u001b[38;5;28;01mimport\u001b[39;00m DataRens\n\u001b[32m      3\u001b[39m \u001b[38;5;66;03m# Opprett rens-objekt og sett inn DataFrame\u001b[39;00m\n\u001b[32m      4\u001b[39m rens = DataRens()\n",
      "\u001b[31mModuleNotFoundError\u001b[39m: No module named 'data_rens'"
     ]
    }
   ],
   "source": [
    "from data_rens import DataRens\n",
    "\n",
    "# Opprett rens-objekt og sett inn DataFrame\n",
    "rens = DataRens()\n",
    "rens.sett_data(df_legg_til_duplikater)\n",
    "\n",
    "# Vis widgetene\n",
    "rens.vis_widget()\n"
   ]
  },
  {
   "cell_type": "code",
   "execution_count": 2,
   "metadata": {},
   "outputs": [
    {
     "ename": "NameError",
     "evalue": "name 'df_legg_til_duplikater' is not defined",
     "output_type": "error",
     "traceback": [
      "\u001b[31m---------------------------------------------------------------------------\u001b[39m",
      "\u001b[31mNameError\u001b[39m                                 Traceback (most recent call last)",
      "\u001b[36mCell\u001b[39m\u001b[36m \u001b[39m\u001b[32mIn[2]\u001b[39m\u001b[32m, line 2\u001b[39m\n\u001b[32m      1\u001b[39m \u001b[38;5;66;03m# Lager en kopi av df - for visualisering \u001b[39;00m\n\u001b[32m----> \u001b[39m\u001b[32m2\u001b[39m df_urenset = \u001b[43mdf_legg_til_duplikater\u001b[49m.copy()\n\u001b[32m      4\u001b[39m \u001b[38;5;66;03m# Renser df\u001b[39;00m\n\u001b[32m      5\u001b[39m df_temp_renset = rens_temp.rens_DataFrame(df_legg_til_duplikater, vis_manglende=\u001b[38;5;28;01mFalse\u001b[39;00m)\n",
      "\u001b[31mNameError\u001b[39m: name 'df_legg_til_duplikater' is not defined"
     ]
    }
   ],
   "source": [
    "# Lager en kopi av df - for visualisering \n",
    "df_urenset = df_legg_til_duplikater.copy()\n",
    "\n",
    "# Renser df\n",
    "df_temp_renset = rens_temp.rens_DataFrame(df_legg_til_duplikater, vis_manglende=False)\n",
    "\n",
    "# Plotter begge\n",
    "rens_temp.plot_manglende_data(df_urenset, df_temp_renset)\n",
    "\n",
    "\n",
    "print('Ferdig renset dataframe (de første fem radene):')\n",
    "display(df_temp_renset.head())\n"
   ]
  },
  {
   "cell_type": "markdown",
   "metadata": {},
   "source": [
    "# Beregning av statistiske mål:\n",
    "*Beregninger*: <br>\n",
    "Beregningene gjøres i 4 intervaller: <br>\n",
    "1980-1989 <br>\n",
    "1990-1999 <br>\n",
    "2000-2009 <br>\n",
    "2010-2020 <br>\n",
    "\n",
    "Samt en beregning for hele intervallet i sin helhet (1980-2020)"
   ]
  },
  {
   "cell_type": "markdown",
   "metadata": {},
   "source": [
    "**Beregning av gjennomsnitt**\n"
   ]
  },
  {
   "cell_type": "code",
   "execution_count": null,
   "metadata": {},
   "outputs": [],
   "source": [
    "temp_mål = Statistiske_maal()\n",
    "\n",
    "gjennomsnitt_temp = temp_mål.gjennomsnitt(df_temp_renset)\n",
    "\n",
    "print(\"Gjennomsnitt i 4 intervaller + totalt: \")\n",
    "for key, value in gjennomsnitt_temp.items():\n",
    "    print(f\"{key}: {value} °C\")\n"
   ]
  },
  {
   "cell_type": "markdown",
   "metadata": {},
   "source": [
    "**Beregning av median**"
   ]
  },
  {
   "cell_type": "code",
   "execution_count": null,
   "metadata": {},
   "outputs": [],
   "source": [
    "median_temp = temp_mål.median(df_temp_renset)\n",
    "\n",
    "print(\"Median i 4 intervaller + totalt: \")\n",
    "for key, value in median_temp.items():\n",
    "    print(f\"{key}: {value} °C\")"
   ]
  },
  {
   "cell_type": "markdown",
   "metadata": {},
   "source": [
    "**Beregning av standardavvik**"
   ]
  },
  {
   "cell_type": "code",
   "execution_count": null,
   "metadata": {},
   "outputs": [],
   "source": [
    "standardavvik_temp = temp_mål.standardavvik(df_temp_renset)\n",
    "\n",
    "print(\"Standardavvik i 4 intervaller + totalt: \")\n",
    "for key, value in standardavvik_temp.items():\n",
    "    print(f\"{key}: {value} °C\")"
   ]
  },
  {
   "cell_type": "markdown",
   "metadata": {},
   "source": [
    "# Visualisering"
   ]
  },
  {
   "cell_type": "code",
   "execution_count": null,
   "metadata": {},
   "outputs": [],
   "source": [
    "import sys\n",
    "import os\n",
    "sys.path.append(os.path.abspath(os.path.join(os.getcwd(), '../src')))\n",
    "\n",
    "from visualisering import vis_statistikk\n",
    "from visualisering import visualiser_statistikk_per_tiår\n"
   ]
  },
  {
   "cell_type": "code",
   "execution_count": null,
   "metadata": {},
   "outputs": [],
   "source": [
    "vis_statistikk(\n",
    "    df_temp_renset[\"year\"],\n",
    "    df_temp_renset[\"value\"],\n",
    "    median=median_temp[\"Totalt\"],\n",
    "    gjennomsnitt=gjennomsnitt_temp[\"Totalt\"],\n",
    "    std=standardavvik_temp[\"Totalt\"],\n",
    "    tittel=\"Endring i temperatur over tid (1980–2020)\",\n",
    "    y_label=\"Grader (°C)\"\n",
    ")\n"
   ]
  },
  {
   "cell_type": "code",
   "execution_count": null,
   "metadata": {},
   "outputs": [],
   "source": [
    "visualiser_statistikk_per_tiår(\n",
    "    gjennomsnitt=gjennomsnitt_temp,\n",
    "    median=median_temp,\n",
    "    standardavvik=standardavvik_temp,\n",
    "    tittel=\"Gjennomsnittlig årstemperatur per tiår (med avvik og median)\",\n",
    "    ylabel=\"Temperatur (°C)\"\n",
    ")\n"
   ]
  },
  {
   "cell_type": "markdown",
   "metadata": {},
   "source": [
    "# Lagrer viktige variabler i med %store for å bruke videre"
   ]
  },
  {
   "cell_type": "code",
   "execution_count": null,
   "metadata": {},
   "outputs": [],
   "source": [
    "# lager variablene for en samlet visualisering\n",
    "\n",
    "%store df_temp_renset\n",
    "%store gjennomsnitt_temp\n",
    "%store standardavvik_temp\n",
    "%store median_temp"
   ]
  },
  {
   "cell_type": "markdown",
   "metadata": {},
   "source": [
    "# Prediktiv analyse"
   ]
  },
  {
   "cell_type": "code",
   "execution_count": null,
   "metadata": {},
   "outputs": [],
   "source": [
    "import sys\n",
    "import os\n",
    "sys.path.append(os.path.abspath(os.path.join(os.getcwd(), '../src')))\n",
    "\n",
    "from prediktiv_analyse import TrendModel"
   ]
  },
  {
   "cell_type": "code",
   "execution_count": null,
   "metadata": {},
   "outputs": [],
   "source": [
    "temp_model = TrendModel(df_temp_renset)\n",
    "temp_model.fit_models()\n",
    "temp_model.plot_models()\n",
    "temp_model.print_r2_scores()\n",
    "temp_model.plot_prediction(2040, deg=1)\n"
   ]
  }
 ],
 "metadata": {
  "kernelspec": {
   "display_name": "venv",
   "language": "python",
   "name": "python3"
  },
  "language_info": {
   "codemirror_mode": {
    "name": "ipython",
    "version": 3
   },
   "file_extension": ".py",
   "mimetype": "text/x-python",
   "name": "python",
   "nbconvert_exporter": "python",
   "pygments_lexer": "ipython3",
   "version": "3.13.2"
  }
 },
 "nbformat": 4,
 "nbformat_minor": 2
}
