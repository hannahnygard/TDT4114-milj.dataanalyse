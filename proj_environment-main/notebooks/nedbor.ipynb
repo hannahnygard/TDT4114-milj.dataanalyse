{
 "cells": [
  {
   "cell_type": "code",
   "execution_count": 3,
   "metadata": {},
   "outputs": [],
   "source": [
    "import sys\n",
    "import os\n",
    "\n",
    "# Legg til src-mappen i sys.path\n",
    "sys.path.append(os.path.abspath(os.path.join(os.getcwd(), '../src')))\n",
    "\n",
    "from data_rens import DataRens\n",
    "from statistiske_maal import Statistiske_maal"
   ]
  },
  {
   "cell_type": "markdown",
   "metadata": {},
   "source": [
    "# Nedbør:"
   ]
  },
  {
   "cell_type": "markdown",
   "metadata": {},
   "source": [
    "* Oppretter et objekt av klassen DataRens\n",
    "* Bruker metodene for å opprette en dataframe og rense denne"
   ]
  },
  {
   "cell_type": "code",
   "execution_count": 4,
   "metadata": {},
   "outputs": [
    {
     "name": "stdout",
     "output_type": "stream",
     "text": [
      "Antall duplikater funnet: 0\n",
      "Det er ingen datoer som mangler verdier!\n"
     ]
    }
   ],
   "source": [
    "#Oppretter filstien til JSONfil med nedbør\n",
    "nedbor_fil = \"../data/frost_nedbor.json\"\n",
    "\n",
    "#Oppreter et nedbørs-objekt i DataRens() \n",
    "rens_nedbor = DataRens()\n",
    "\n",
    "#Bruker metode fra klassen for å konvertere JSON til dataframe\n",
    "df_nedbor = rens_nedbor.fra_json_til_dataframe(nedbor_fil)\n",
    "\n",
    "#Bruke metode for å rense Dataframen\n",
    "df_nedbor_renset = rens_nedbor.rens_DataFrame(df_nedbor)\n",
    "\n",
    "#Printer ut renset dataframe av nedbør:\n",
    "#display(df_temp_renset.head())\n"
   ]
  },
  {
   "cell_type": "markdown",
   "metadata": {},
   "source": [
    "*Beregninger*: <br>\n",
    "Beregningene gjøres i 4 intervaller: <br>\n",
    "1980-1989 <br>\n",
    "1990-1999 <br>\n",
    "2000-2009 <br>\n",
    "2010-2020 <br>\n",
    "\n",
    "Samt en beregning for hele intervallet i sin helhet (1980-2020)"
   ]
  },
  {
   "cell_type": "markdown",
   "metadata": {},
   "source": [
    "**Beregning av gjennomsnitt**\n"
   ]
  },
  {
   "cell_type": "code",
   "execution_count": 5,
   "metadata": {},
   "outputs": [
    {
     "name": "stdout",
     "output_type": "stream",
     "text": [
      "Gjennomsnitt i 4 intervaller + totalt: \n",
      "1980-1989: 817.01 mm\n",
      "1990-1999: 723.45 mm\n",
      "2000-2009: 876.73 mm\n",
      "2010-2020: 894.48 mm\n",
      "Totalt: 829.54 mm\n"
     ]
    }
   ],
   "source": [
    "nedbor_mål = Statistiske_maal()\n",
    "\n",
    "gjennomsnitt_nedbor = nedbor_mål.gjennomsnitt(df_nedbor_renset)\n",
    "\n",
    "print(\"Gjennomsnitt i 4 intervaller + totalt: \")\n",
    "for key, value in gjennomsnitt_nedbor.items():\n",
    "    print(f\"{key}: {value} mm\")\n",
    "\n"
   ]
  },
  {
   "cell_type": "markdown",
   "metadata": {},
   "source": [
    "**Beregning av median**"
   ]
  },
  {
   "cell_type": "code",
   "execution_count": 7,
   "metadata": {},
   "outputs": [
    {
     "name": "stdout",
     "output_type": "stream",
     "text": [
      "Median i 4 intervaller + totalt: \n",
      "1980-1989: 809.15 mm\n",
      "1990-1999: 722.7 mm\n",
      "2000-2009: 853.05 mm\n",
      "2010-2020: 942.2 mm\n",
      "Totalt: 797.4 mm\n"
     ]
    }
   ],
   "source": [
    "median_nedbor = nedbor_mål.median(df_nedbor_renset)\n",
    "\n",
    "print(\"Median i 4 intervaller + totalt: \")\n",
    "for key, value in median_nedbor.items():\n",
    "    print(f\"{key}: {value} mm\")"
   ]
  },
  {
   "cell_type": "markdown",
   "metadata": {},
   "source": [
    "**Beregning av standardavvik**"
   ]
  },
  {
   "cell_type": "code",
   "execution_count": 8,
   "metadata": {},
   "outputs": [
    {
     "name": "stdout",
     "output_type": "stream",
     "text": [
      "Standardavvik i 4 intervaller + totalt: \n",
      "1980-1989: 124.69 mm\n",
      "1990-1999: 102.96 mm\n",
      "2000-2009: 142.68 mm\n",
      "2010-2020: 148.48 mm\n",
      "Totalt: 143.34 mm\n"
     ]
    }
   ],
   "source": [
    "standardavvik_nedbor = nedbor_mål.standardavvik(df_nedbor_renset)\n",
    "\n",
    "print(\"Standardavvik i 4 intervaller + totalt: \")\n",
    "for key, value in standardavvik_nedbor.items():\n",
    "    print(f\"{key}: {value} mm\")"
   ]
  }
 ],
 "metadata": {
  "kernelspec": {
   "display_name": "venv",
   "language": "python",
   "name": "python3"
  },
  "language_info": {
   "codemirror_mode": {
    "name": "ipython",
    "version": 3
   },
   "file_extension": ".py",
   "mimetype": "text/x-python",
   "name": "python",
   "nbconvert_exporter": "python",
   "pygments_lexer": "ipython3",
   "version": "3.11.9"
  }
 },
 "nbformat": 4,
 "nbformat_minor": 2
}
