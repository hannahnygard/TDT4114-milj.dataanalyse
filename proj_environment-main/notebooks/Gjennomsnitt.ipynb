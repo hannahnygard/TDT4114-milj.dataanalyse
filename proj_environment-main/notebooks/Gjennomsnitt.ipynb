{
 "cells": [
  {
   "cell_type": "code",
   "execution_count": 2,
   "metadata": {},
   "outputs": [],
   "source": [
    "import numpy as np\n",
    "import pandas as pd\n",
    "import pickle"
   ]
  },
  {
   "cell_type": "code",
   "execution_count": 3,
   "metadata": {},
   "outputs": [],
   "source": [
    "#henter ut de rensede verdiene fra pickle filen\n",
    "\n",
    "with open(\"../data/renset_data_lufttrykk.pkl\", \"rb\") as f:\n",
    "    df_lufttrykk = pickle.load(f)\n",
    "\n",
    "with open(\"../data/renset_data_nedbor.pkl\", \"rb\") as f:\n",
    "    df_nedbor = pickle.load(f)\n",
    "\n",
    "with open(\"../data/renset_data_temperatur.pkl\", \"rb\") as f:\n",
    "    df_temperatur = pickle.load(f)\n"
   ]
  },
  {
   "cell_type": "markdown",
   "metadata": {},
   "source": [
    "## Gjennomsnittlig lufttrykk"
   ]
  },
  {
   "cell_type": "code",
   "execution_count": 8,
   "metadata": {},
   "outputs": [
    {
     "name": "stdout",
     "output_type": "stream",
     "text": [
      "Gjennomsnittlig lufttrykk i 2023 var: 1010.42 hPa\n"
     ]
    },
    {
     "ename": "NameError",
     "evalue": "name 'df_skydekke' is not defined",
     "output_type": "error",
     "traceback": [
      "\u001b[31m---------------------------------------------------------------------------\u001b[39m",
      "\u001b[31mNameError\u001b[39m                                 Traceback (most recent call last)",
      "\u001b[36mCell\u001b[39m\u001b[36m \u001b[39m\u001b[32mIn[8]\u001b[39m\u001b[32m, line 4\u001b[39m\n\u001b[32m      1\u001b[39m avg_lufttrykk = df_lufttrykk[\u001b[33m\"\u001b[39m\u001b[33mair_pressure\u001b[39m\u001b[33m\"\u001b[39m].mean()\n\u001b[32m      2\u001b[39m \u001b[38;5;28mprint\u001b[39m(\u001b[33mf\u001b[39m\u001b[33m\"\u001b[39m\u001b[33mGjennomsnittlig lufttrykk i 2023 var: \u001b[39m\u001b[38;5;132;01m{\u001b[39;00mavg_lufttrykk\u001b[38;5;132;01m:\u001b[39;00m\u001b[33m.2f\u001b[39m\u001b[38;5;132;01m}\u001b[39;00m\u001b[33m hPa\u001b[39m\u001b[33m\"\u001b[39m)\n\u001b[32m----> \u001b[39m\u001b[32m4\u001b[39m df_skydekke[\u001b[33m\"\u001b[39m\u001b[33mreferenceTime\u001b[39m\u001b[33m\"\u001b[39m] = \u001b[43mdf_skydekke\u001b[49m[\u001b[33m\"\u001b[39m\u001b[33mreferenceTime\u001b[39m\u001b[33m\"\u001b[39m].astype(\u001b[38;5;28mint\u001b[39m)  \n\u001b[32m      6\u001b[39m skydekke_1980_1989 = df_skydekke[(df_skydekke[\u001b[33m\"\u001b[39m\u001b[33mreferenceTime\u001b[39m\u001b[33m\"\u001b[39m] >= \u001b[32m1980\u001b[39m) & (df_skydekke[\u001b[33m\"\u001b[39m\u001b[33mreferenceTime\u001b[39m\u001b[33m\"\u001b[39m] <= \u001b[32m1989\u001b[39m)]\n\u001b[32m      7\u001b[39m skydekke_1990_1999 = df_skydekke[(df_skydekke[\u001b[33m\"\u001b[39m\u001b[33mreferenceTime\u001b[39m\u001b[33m\"\u001b[39m] >= \u001b[32m1990\u001b[39m) & (df_skydekke[\u001b[33m\"\u001b[39m\u001b[33mreferenceTime\u001b[39m\u001b[33m\"\u001b[39m] <= \u001b[32m1999\u001b[39m)]\n",
      "\u001b[31mNameError\u001b[39m: name 'df_skydekke' is not defined"
     ]
    }
   ],
   "source": [
    "avg_lufttrykk = df_lufttrykk[\"air_pressure\"].mean()\n",
    "print(f\"Gjennomsnittlig lufttrykk i 2023 var: {avg_lufttrykk:.2f} hPa\")\n",
    "\n",
    "df_skydekke[\"referenceTime\"] = df_skydekke[\"referenceTime\"].astype(int)  \n",
    "\n",
    "skydekke_1980_1989 = df_skydekke[(df_skydekke[\"referenceTime\"] >= 1980) & (df_skydekke[\"referenceTime\"] <= 1989)]\n",
    "skydekke_1990_1999 = df_skydekke[(df_skydekke[\"referenceTime\"] >= 1990) & (df_skydekke[\"referenceTime\"] <= 1999)]\n",
    "skydekke_2000_2009 = df_skydekke[(df_skydekke[\"referenceTime\"] >= 2000) & (df_skydekke[\"referenceTime\"] <= 2009)]\n",
    "skydekke_2010_2020 = df_skydekke[(df_skydekke[\"referenceTime\"] >= 2010) & (df_skydekke[\"referenceTime\"] <= 2020)]\n",
    "\n",
    "avg_skydekke_1980_1989 = skydekke_1980_1989[\"value\"].mean()\n",
    "avg_skydekke_1990_1999 = skydekke_1990_1999[\"value\"].mean()\n",
    "avg_skydekke_2000_2009 = skydekke_2000_2009[\"value\"].mean()\n",
    "avg_skydekke_2010_2020 = skydekke_2010_2020[\"value\"].mean()\n",
    "\n",
    "\n",
    "print(f\"Gjennomsnittlig skydekke for 1980-1989 var: {avg_skydekke_1980_1989:.2f} octas\")\n",
    "print(f\"Gjennomsnittlig skydekke for 1990-1999 var: {avg_skydekke_1990_1999:.2f} octas\")\n",
    "print(f\"Gjennomsnittlig skydekke for 2000-2009 var: {avg_skydekke_2000_2009:.2f} octas\")\n",
    "print(f\"Gjennomsnittlig skydekke for 2010-2020 var: {avg_skydekke_2010_2020:.2f} octas\")\n"
   ]
  },
  {
   "cell_type": "markdown",
   "metadata": {},
   "source": [
    "## Gjennomsnittlig nedbør"
   ]
  },
  {
   "cell_type": "code",
   "execution_count": 10,
   "metadata": {},
   "outputs": [
    {
     "ename": "KeyError",
     "evalue": "'year'",
     "output_type": "error",
     "traceback": [
      "\u001b[31m---------------------------------------------------------------------------\u001b[39m",
      "\u001b[31mKeyError\u001b[39m                                  Traceback (most recent call last)",
      "\u001b[36mFile \u001b[39m\u001b[32mc:\\Anvendt_programmering\\TDT4114-milj.dataanalyse\\proj_environment-main\\venv\\Lib\\site-packages\\pandas\\core\\indexes\\base.py:3805\u001b[39m, in \u001b[36mIndex.get_loc\u001b[39m\u001b[34m(self, key)\u001b[39m\n\u001b[32m   3804\u001b[39m \u001b[38;5;28;01mtry\u001b[39;00m:\n\u001b[32m-> \u001b[39m\u001b[32m3805\u001b[39m     \u001b[38;5;28;01mreturn\u001b[39;00m \u001b[38;5;28;43mself\u001b[39;49m\u001b[43m.\u001b[49m\u001b[43m_engine\u001b[49m\u001b[43m.\u001b[49m\u001b[43mget_loc\u001b[49m\u001b[43m(\u001b[49m\u001b[43mcasted_key\u001b[49m\u001b[43m)\u001b[49m\n\u001b[32m   3806\u001b[39m \u001b[38;5;28;01mexcept\u001b[39;00m \u001b[38;5;167;01mKeyError\u001b[39;00m \u001b[38;5;28;01mas\u001b[39;00m err:\n",
      "\u001b[36mFile \u001b[39m\u001b[32mindex.pyx:167\u001b[39m, in \u001b[36mpandas._libs.index.IndexEngine.get_loc\u001b[39m\u001b[34m()\u001b[39m\n",
      "\u001b[36mFile \u001b[39m\u001b[32mindex.pyx:196\u001b[39m, in \u001b[36mpandas._libs.index.IndexEngine.get_loc\u001b[39m\u001b[34m()\u001b[39m\n",
      "\u001b[36mFile \u001b[39m\u001b[32mpandas\\\\_libs\\\\hashtable_class_helper.pxi:7081\u001b[39m, in \u001b[36mpandas._libs.hashtable.PyObjectHashTable.get_item\u001b[39m\u001b[34m()\u001b[39m\n",
      "\u001b[36mFile \u001b[39m\u001b[32mpandas\\\\_libs\\\\hashtable_class_helper.pxi:7089\u001b[39m, in \u001b[36mpandas._libs.hashtable.PyObjectHashTable.get_item\u001b[39m\u001b[34m()\u001b[39m\n",
      "\u001b[31mKeyError\u001b[39m: 'year'",
      "\nThe above exception was the direct cause of the following exception:\n",
      "\u001b[31mKeyError\u001b[39m                                  Traceback (most recent call last)",
      "\u001b[36mCell\u001b[39m\u001b[36m \u001b[39m\u001b[32mIn[10]\u001b[39m\u001b[32m, line 4\u001b[39m\n\u001b[32m      1\u001b[39m \u001b[38;5;66;03m#avg_nedbor = df_nedbor[\"value\"].mean()\u001b[39;00m\n\u001b[32m      2\u001b[39m \u001b[38;5;66;03m#print(f\"Gjennomsnittlig nedbør i 2023 var: {avg_nedbor:.2f} mm\")\u001b[39;00m\n\u001b[32m----> \u001b[39m\u001b[32m4\u001b[39m df_nedbor[\u001b[33m\"\u001b[39m\u001b[33myear\u001b[39m\u001b[33m\"\u001b[39m] = \u001b[43mdf_nedbor\u001b[49m\u001b[43m[\u001b[49m\u001b[33;43m\"\u001b[39;49m\u001b[33;43myear\u001b[39;49m\u001b[33;43m\"\u001b[39;49m\u001b[43m]\u001b[49m.astype(\u001b[38;5;28mint\u001b[39m)  \n\u001b[32m      6\u001b[39m nedbor_1980_1989 = df_nedbor[(df_nedbor[\u001b[33m\"\u001b[39m\u001b[33myear\u001b[39m\u001b[33m\"\u001b[39m] >= \u001b[32m1980\u001b[39m) & (df_nedbor[\u001b[33m\"\u001b[39m\u001b[33myear\u001b[39m\u001b[33m\"\u001b[39m] <= \u001b[32m1989\u001b[39m)]\n\u001b[32m      7\u001b[39m nedbor_1990_1999 = df_nedbor[(df_nedbor[\u001b[33m\"\u001b[39m\u001b[33myear\u001b[39m\u001b[33m\"\u001b[39m] >= \u001b[32m1990\u001b[39m) & (df_nedbor[\u001b[33m\"\u001b[39m\u001b[33myear\u001b[39m\u001b[33m\"\u001b[39m] <= \u001b[32m1999\u001b[39m)]\n",
      "\u001b[36mFile \u001b[39m\u001b[32mc:\\Anvendt_programmering\\TDT4114-milj.dataanalyse\\proj_environment-main\\venv\\Lib\\site-packages\\pandas\\core\\frame.py:4102\u001b[39m, in \u001b[36mDataFrame.__getitem__\u001b[39m\u001b[34m(self, key)\u001b[39m\n\u001b[32m   4100\u001b[39m \u001b[38;5;28;01mif\u001b[39;00m \u001b[38;5;28mself\u001b[39m.columns.nlevels > \u001b[32m1\u001b[39m:\n\u001b[32m   4101\u001b[39m     \u001b[38;5;28;01mreturn\u001b[39;00m \u001b[38;5;28mself\u001b[39m._getitem_multilevel(key)\n\u001b[32m-> \u001b[39m\u001b[32m4102\u001b[39m indexer = \u001b[38;5;28;43mself\u001b[39;49m\u001b[43m.\u001b[49m\u001b[43mcolumns\u001b[49m\u001b[43m.\u001b[49m\u001b[43mget_loc\u001b[49m\u001b[43m(\u001b[49m\u001b[43mkey\u001b[49m\u001b[43m)\u001b[49m\n\u001b[32m   4103\u001b[39m \u001b[38;5;28;01mif\u001b[39;00m is_integer(indexer):\n\u001b[32m   4104\u001b[39m     indexer = [indexer]\n",
      "\u001b[36mFile \u001b[39m\u001b[32mc:\\Anvendt_programmering\\TDT4114-milj.dataanalyse\\proj_environment-main\\venv\\Lib\\site-packages\\pandas\\core\\indexes\\base.py:3812\u001b[39m, in \u001b[36mIndex.get_loc\u001b[39m\u001b[34m(self, key)\u001b[39m\n\u001b[32m   3807\u001b[39m     \u001b[38;5;28;01mif\u001b[39;00m \u001b[38;5;28misinstance\u001b[39m(casted_key, \u001b[38;5;28mslice\u001b[39m) \u001b[38;5;129;01mor\u001b[39;00m (\n\u001b[32m   3808\u001b[39m         \u001b[38;5;28misinstance\u001b[39m(casted_key, abc.Iterable)\n\u001b[32m   3809\u001b[39m         \u001b[38;5;129;01mand\u001b[39;00m \u001b[38;5;28many\u001b[39m(\u001b[38;5;28misinstance\u001b[39m(x, \u001b[38;5;28mslice\u001b[39m) \u001b[38;5;28;01mfor\u001b[39;00m x \u001b[38;5;129;01min\u001b[39;00m casted_key)\n\u001b[32m   3810\u001b[39m     ):\n\u001b[32m   3811\u001b[39m         \u001b[38;5;28;01mraise\u001b[39;00m InvalidIndexError(key)\n\u001b[32m-> \u001b[39m\u001b[32m3812\u001b[39m     \u001b[38;5;28;01mraise\u001b[39;00m \u001b[38;5;167;01mKeyError\u001b[39;00m(key) \u001b[38;5;28;01mfrom\u001b[39;00m\u001b[38;5;250m \u001b[39m\u001b[34;01merr\u001b[39;00m\n\u001b[32m   3813\u001b[39m \u001b[38;5;28;01mexcept\u001b[39;00m \u001b[38;5;167;01mTypeError\u001b[39;00m:\n\u001b[32m   3814\u001b[39m     \u001b[38;5;66;03m# If we have a listlike key, _check_indexing_error will raise\u001b[39;00m\n\u001b[32m   3815\u001b[39m     \u001b[38;5;66;03m#  InvalidIndexError. Otherwise we fall through and re-raise\u001b[39;00m\n\u001b[32m   3816\u001b[39m     \u001b[38;5;66;03m#  the TypeError.\u001b[39;00m\n\u001b[32m   3817\u001b[39m     \u001b[38;5;28mself\u001b[39m._check_indexing_error(key)\n",
      "\u001b[31mKeyError\u001b[39m: 'year'"
     ]
    }
   ],
   "source": [
    "#avg_nedbor = df_nedbor[\"value\"].mean()\n",
    "#print(f\"Gjennomsnittlig nedbør i 2023 var: {avg_nedbor:.2f} mm\")\n",
    "\n",
    "df_nedbor[\"year\"] = df_nedbor[\"year\"].astype(int)  \n",
    "\n",
    "nedbor_1980_1989 = df_nedbor[(df_nedbor[\"year\"] >= 1980) & (df_nedbor[\"year\"] <= 1989)]\n",
    "nedbor_1990_1999 = df_nedbor[(df_nedbor[\"year\"] >= 1990) & (df_nedbor[\"year\"] <= 1999)]\n",
    "nedbor_2000_2009 = df_nedbor[(df_nedbor[\"year\"] >= 2000) & (df_nedbor[\"year\"] <= 2009)]\n",
    "nedbor_2010_2020 = df_nedbor[(df_nedbor[\"year\"] >= 2010) & (df_nedbor[\"year\"] <= 2020)]\n",
    "\n",
    "avg_nedbor_1980_1989 = nedbor_1980_1989[\"value\"].mean()\n",
    "avg_nedbor_1990_1999 = nedbor_1990_1999[\"value\"].mean()\n",
    "avg_nedbor_2000_2009 = nedbor_2000_2009[\"value\"].mean()\n",
    "avg_nedbor_2010_2020 = nedbor_2010_2020[\"value\"].mean()\n",
    "\n",
    "print(f\"Gjennomsnittlig nedbør for 1980-1989: {avg_nedbor_1980_1989:.2f} mm\")\n",
    "print(f\"Gjennomsnittlig nedbør for 1980-1989: {avg_nedbor_1990_1999:.2f} mm\")\n",
    "print(f\"Gjennomsnittlig nedbør for 1980-1989: {avg_nedbor_2000_2009:.2f} mm\")\n",
    "print(f\"Gjennomsnittlig nedbør for 1980-1989: {avg_nedbor_2010_2020:.2f} mm\")"
   ]
  },
  {
   "cell_type": "markdown",
   "metadata": {},
   "source": [
    "## Gjennomsnittlig temperatur"
   ]
  },
  {
   "cell_type": "code",
   "execution_count": 5,
   "metadata": {},
   "outputs": [
    {
     "name": "stdout",
     "output_type": "stream",
     "text": [
      "Gjennomsnittlig temperatur for 1980-1989: 5.93 °C\n",
      "Gjennomsnittlig temperatur for 1980-1989: 6.61 °C\n",
      "Gjennomsnittlig temperatur for 1980-1989: 7.17 °C\n",
      "Gjennomsnittlig temperatur for 1980-1989: 7.22 °C\n"
     ]
    }
   ],
   "source": [
    "df_temperatur[\"year\"] = df_temperatur[\"year\"].astype(int)  \n",
    "\n",
    "temp_1980_1989 = df_temperatur[(df_temperatur[\"year\"] >= 1980) & (df_temperatur[\"year\"] <= 1989)]\n",
    "temp_1990_1999 = df_temperatur[(df_temperatur[\"year\"] >= 1990) & (df_temperatur[\"year\"] <= 1999)]\n",
    "temp_2000_2009 = df_temperatur[(df_temperatur[\"year\"] >= 2000) & (df_temperatur[\"year\"] <= 2009)]\n",
    "temp_2010_2020 = df_temperatur[(df_temperatur[\"year\"] >= 2010) & (df_temperatur[\"year\"] <= 2020)]\n",
    "\n",
    "avg_temp_1980_1989 = temp_1980_1989[\"value\"].mean()\n",
    "avg_temp_1990_1999 = temp_1990_1999[\"value\"].mean()\n",
    "avg_temp_2000_2009 = temp_2000_2009[\"value\"].mean()\n",
    "avg_temp_2010_2020 = temp_2010_2020[\"value\"].mean()\n",
    "\n",
    "print(f\"Gjennomsnittlig temperatur for 1980-1989: {avg_temp_1980_1989:.2f} °C\")\n",
    "print(f\"Gjennomsnittlig temperatur for 1980-1989: {avg_temp_1990_1999:.2f} °C\")\n",
    "print(f\"Gjennomsnittlig temperatur for 1980-1989: {avg_temp_2000_2009:.2f} °C\")\n",
    "print(f\"Gjennomsnittlig temperatur for 1980-1989: {avg_temp_2010_2020:.2f} °C\")\n"
   ]
  },
  {
   "cell_type": "markdown",
   "metadata": {},
   "source": []
  },
  {
   "cell_type": "markdown",
   "metadata": {},
   "source": []
  }
 ],
 "metadata": {
  "kernelspec": {
   "display_name": "venv",
   "language": "python",
   "name": "python3"
  },
  "language_info": {
   "codemirror_mode": {
    "name": "ipython",
    "version": 3
   },
   "file_extension": ".py",
   "mimetype": "text/x-python",
   "name": "python",
   "nbconvert_exporter": "python",
   "pygments_lexer": "ipython3",
   "version": "3.11.9"
  }
 },
 "nbformat": 4,
 "nbformat_minor": 2
}
