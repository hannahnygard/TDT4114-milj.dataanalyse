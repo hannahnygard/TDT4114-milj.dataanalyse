{
 "cells": [
  {
   "cell_type": "code",
   "execution_count": 1,
   "metadata": {},
   "outputs": [],
   "source": [
    "import numpy as np\n",
    "import pandas as pd\n",
    "import pickle"
   ]
  },
  {
   "cell_type": "code",
   "execution_count": 2,
   "metadata": {},
   "outputs": [],
   "source": [
    "#henter ut de rensede verdiene fra pickle filen\n",
    "\n",
    "with open(\"../data/renset_data_lufttrykk.pkl\", \"rb\") as f:\n",
    "    df_lufttrykk = pickle.load(f)\n",
    "\n",
    "with open(\"../data/renset_data_nedbor.pkl\", \"rb\") as f:\n",
    "    df_nedbor = pickle.load(f)\n",
    "\n",
    "with open(\"../data/renset_data_temperatur.pkl\", \"rb\") as f:\n",
    "    df_temperatur = pickle.load(f)\n"
   ]
  },
  {
   "cell_type": "markdown",
   "metadata": {},
   "source": [
    "## Gjennomsnittlig lufttrykk"
   ]
  },
  {
   "cell_type": "code",
   "execution_count": 3,
   "metadata": {},
   "outputs": [
    {
     "name": "stdout",
     "output_type": "stream",
     "text": [
      "Gjennomsnittlig lufttrykk i 2023 var: 1010.42 hPa\n"
     ]
    }
   ],
   "source": [
    "avg_lufttrykk = df_lufttrykk[\"air_pressure\"].mean()\n",
    "print(f\"Gjennomsnittlig lufttrykk i 2023 var: {avg_lufttrykk:.2f} hPa\")"
   ]
  },
  {
   "cell_type": "markdown",
   "metadata": {},
   "source": [
    "## Gjennomsnittlig nedbør"
   ]
  },
  {
   "cell_type": "code",
   "execution_count": 4,
   "metadata": {},
   "outputs": [
    {
     "name": "stdout",
     "output_type": "stream",
     "text": [
      "Gjennomsnittlig nedbør i 2023 var: 2.80 mm\n"
     ]
    }
   ],
   "source": [
    "avg_nedbor = df_nedbor[\"value\"].mean()\n",
    "print(f\"Gjennomsnittlig nedbør i 2023 var: {avg_nedbor:.2f} mm\")"
   ]
  },
  {
   "cell_type": "markdown",
   "metadata": {},
   "source": [
    "## Gjennomsnittlig temperatur"
   ]
  },
  {
   "cell_type": "code",
   "execution_count": 5,
   "metadata": {},
   "outputs": [
    {
     "name": "stdout",
     "output_type": "stream",
     "text": [
      "Gjennomsnittlig temperatur for 1980-1989: 5.93 °C\n",
      "Gjennomsnittlig temperatur for 1980-1989: 6.61 °C\n",
      "Gjennomsnittlig temperatur for 1980-1989: 7.17 °C\n",
      "Gjennomsnittlig temperatur for 1980-1989: 7.22 °C\n"
     ]
    }
   ],
   "source": [
    "df_temperatur[\"year\"] = df_temperatur[\"year\"].astype(int)  \n",
    "\n",
    "temp_1980_1989 = df_temperatur[(df_temperatur[\"year\"] >= 1980) & (df_temperatur[\"year\"] <= 1989)]\n",
    "temp_1990_1999 = df_temperatur[(df_temperatur[\"year\"] >= 1990) & (df_temperatur[\"year\"] <= 1999)]\n",
    "temp_2000_2009 = df_temperatur[(df_temperatur[\"year\"] >= 2000) & (df_temperatur[\"year\"] <= 2009)]\n",
    "temp_2010_2020 = df_temperatur[(df_temperatur[\"year\"] >= 2010) & (df_temperatur[\"year\"] <= 2020)]\n",
    "\n",
    "avg_temp_1980_1989 = temp_1980_1989[\"value\"].mean()\n",
    "avg_temp_1990_1999 = temp_1990_1999[\"value\"].mean()\n",
    "avg_temp_2000_2009 = temp_2000_2009[\"value\"].mean()\n",
    "avg_temp_2010_2020 = temp_2010_2020[\"value\"].mean()\n",
    "\n",
    "print(f\"Gjennomsnittlig temperatur for 1980-1989: {avg_temp_1980_1989:.2f} °C\")\n",
    "print(f\"Gjennomsnittlig temperatur for 1980-1989: {avg_temp_1990_1999:.2f} °C\")\n",
    "print(f\"Gjennomsnittlig temperatur for 1980-1989: {avg_temp_2000_2009:.2f} °C\")\n",
    "print(f\"Gjennomsnittlig temperatur for 1980-1989: {avg_temp_2010_2020:.2f} °C\")\n"
   ]
  },
  {
   "cell_type": "markdown",
   "metadata": {},
   "source": []
  }
 ],
 "metadata": {
  "kernelspec": {
   "display_name": "venv",
   "language": "python",
   "name": "python3"
  },
  "language_info": {
   "codemirror_mode": {
    "name": "ipython",
    "version": 3
   },
   "file_extension": ".py",
   "mimetype": "text/x-python",
   "name": "python",
   "nbconvert_exporter": "python",
   "pygments_lexer": "ipython3",
   "version": "3.13.2"
  }
 },
 "nbformat": 4,
 "nbformat_minor": 2
}
