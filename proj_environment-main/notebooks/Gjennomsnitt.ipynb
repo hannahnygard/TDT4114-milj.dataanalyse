{
 "cells": [
  {
   "cell_type": "code",
   "execution_count": 39,
   "metadata": {},
   "outputs": [],
   "source": [
    "import pandas as pd\n",
    "import pickle"
   ]
  },
  {
   "cell_type": "code",
   "execution_count": 40,
   "metadata": {},
   "outputs": [],
   "source": [
    "#henter ut de rensede verdiene fra pickle filen\n",
    "\n",
    "with open(\"../data/renset_data_skydekke.pkl\", \"rb\") as f:\n",
    "    df_skydekke = pickle.load(f)\n",
    "\n",
    "with open(\"../data/renset_data_nedbor.pkl\", \"rb\") as f:\n",
    "    df_nedbor = pickle.load(f)\n",
    "\n",
    "with open(\"../data/renset_data_temperatur.pkl\", \"rb\") as f:\n",
    "    df_temperatur = pickle.load(f)\n"
   ]
  },
  {
   "cell_type": "markdown",
   "metadata": {},
   "source": [
    "## Gjennomsnittlig skydekke"
   ]
  },
  {
   "cell_type": "code",
   "execution_count": 41,
   "metadata": {},
   "outputs": [
    {
     "name": "stdout",
     "output_type": "stream",
     "text": [
      "Gjennomsnittlig skydekke for 1980-1989 var: 5.24 octas\n",
      "Gjennomsnittlig skydekke for 1990-1999 var: 5.41 octas\n",
      "Gjennomsnittlig skydekke for 2000-2009 var: 5.58 octas\n",
      "Gjennomsnittlig skydekke for 2010-2020 var: 5.59 octas\n"
     ]
    }
   ],
   "source": [
    "#Filtrerer ut data for hvert ti-år\n",
    "skydekke_1980_1989 = df_skydekke[(df_skydekke[\"year\"] >= 1980) & (df_skydekke[\"year\"] <= 1989)]\n",
    "skydekke_1990_1999 = df_skydekke[(df_skydekke[\"year\"] >= 1990) & (df_skydekke[\"year\"] <= 1999)]\n",
    "skydekke_2000_2009 = df_skydekke[(df_skydekke[\"year\"] >= 2000) & (df_skydekke[\"year\"] <= 2009)]\n",
    "skydekke_2010_2020 = df_skydekke[(df_skydekke[\"year\"] >= 2010) & (df_skydekke[\"year\"] <= 2020)]\n",
    "\n",
    "#Beregner gjennomsnittlig skydekke for hvert ti-år\n",
    "avg_skydekke_1980_1989 = skydekke_1980_1989[\"values\"].mean()\n",
    "avg_skydekke_1990_1999 = skydekke_1990_1999[\"values\"].mean()\n",
    "avg_skydekke_2000_2009 = skydekke_2000_2009[\"values\"].mean()\n",
    "avg_skydekke_2010_2020 = skydekke_2010_2020[\"values\"].mean()\n",
    "\n",
    "#skriver ut resultatene med to desimaler og benevning\n",
    "print(f\"Gjennomsnittlig skydekke for 1980-1989 var: {avg_skydekke_1980_1989:.2f} octas\")\n",
    "print(f\"Gjennomsnittlig skydekke for 1990-1999 var: {avg_skydekke_1990_1999:.2f} octas\")\n",
    "print(f\"Gjennomsnittlig skydekke for 2000-2009 var: {avg_skydekke_2000_2009:.2f} octas\")\n",
    "print(f\"Gjennomsnittlig skydekke for 2010-2020 var: {avg_skydekke_2010_2020:.2f} octas\")\n"
   ]
  },
  {
   "cell_type": "markdown",
   "metadata": {},
   "source": [
    "## Gjennomsnittlig nedbør"
   ]
  },
  {
   "cell_type": "code",
   "execution_count": 42,
   "metadata": {},
   "outputs": [
    {
     "name": "stdout",
     "output_type": "stream",
     "text": [
      "Gjennomsnittlig nedbør for 1980-1989: 817.01 mm\n",
      "Gjennomsnittlig nedbør for 1980-1989: 723.45 mm\n",
      "Gjennomsnittlig nedbør for 1980-1989: 876.73 mm\n",
      "Gjennomsnittlig nedbør for 1980-1989: 894.48 mm\n"
     ]
    }
   ],
   "source": [
    "#Endrer navnet på kolonnen referencetime til year, bedre lesbarhet\n",
    "df_nedbor.rename(columns={\"referenceTime\" : \"year\"}, inplace=True)\n",
    "\n",
    "#Konverterer year kolonnen til å kun innholde årstall\n",
    "df_nedbor[\"year\"] = pd.to_datetime(df_nedbor[\"year\"]).dt.year\n",
    "\n",
    "#Filterer ut dato for hver ti-år\n",
    "nedbor_1980_1989 = df_nedbor[(df_nedbor[\"year\"] >= 1980) & (df_nedbor[\"year\"] <= 1989)]\n",
    "nedbor_1990_1999 = df_nedbor[(df_nedbor[\"year\"] >= 1990) & (df_nedbor[\"year\"] <= 1999)]\n",
    "nedbor_2000_2009 = df_nedbor[(df_nedbor[\"year\"] >= 2000) & (df_nedbor[\"year\"] <= 2009)]\n",
    "nedbor_2010_2020 = df_nedbor[(df_nedbor[\"year\"] >= 2010) & (df_nedbor[\"year\"] <= 2020)]\n",
    "\n",
    "#Beregner gjennomsnittlig nedbør for de ulike intervallene\n",
    "avg_nedbor_1980_1989 = nedbor_1980_1989[\"value\"].mean()\n",
    "avg_nedbor_1990_1999 = nedbor_1990_1999[\"value\"].mean()\n",
    "avg_nedbor_2000_2009 = nedbor_2000_2009[\"value\"].mean()\n",
    "avg_nedbor_2010_2020 = nedbor_2010_2020[\"value\"].mean()\n",
    "\n",
    "#printer ut restultatet med to desimaler og benevning\n",
    "print(f\"Gjennomsnittlig nedbør for 1980-1989: {avg_nedbor_1980_1989:.2f} mm\")\n",
    "print(f\"Gjennomsnittlig nedbør for 1980-1989: {avg_nedbor_1990_1999:.2f} mm\")\n",
    "print(f\"Gjennomsnittlig nedbør for 1980-1989: {avg_nedbor_2000_2009:.2f} mm\")\n",
    "print(f\"Gjennomsnittlig nedbør for 1980-1989: {avg_nedbor_2010_2020:.2f} mm\")"
   ]
  },
  {
   "cell_type": "markdown",
   "metadata": {},
   "source": [
    "## Gjennomsnittlig temperatur"
   ]
  },
  {
   "cell_type": "code",
   "execution_count": 43,
   "metadata": {},
   "outputs": [
    {
     "name": "stdout",
     "output_type": "stream",
     "text": [
      "Gjennomsnittlig temperatur for 1980-1989: 5.93 °C\n",
      "Gjennomsnittlig temperatur for 1980-1989: 6.61 °C\n",
      "Gjennomsnittlig temperatur for 1980-1989: 7.17 °C\n",
      "Gjennomsnittlig temperatur for 1980-1989: 7.22 °C\n"
     ]
    }
   ],
   "source": [
    "df_temperatur[\"year\"] = df_temperatur[\"year\"].astype(int)\n",
    "\n",
    "#Filtrerer ut data for hver ti-år\n",
    "temp_1980_1989 = df_temperatur[(df_temperatur[\"year\"] >= 1980) & (df_temperatur[\"year\"] <= 1989)]\n",
    "temp_1990_1999 = df_temperatur[(df_temperatur[\"year\"] >= 1990) & (df_temperatur[\"year\"] <= 1999)]\n",
    "temp_2000_2009 = df_temperatur[(df_temperatur[\"year\"] >= 2000) & (df_temperatur[\"year\"] <= 2009)]\n",
    "temp_2010_2020 = df_temperatur[(df_temperatur[\"year\"] >= 2010) & (df_temperatur[\"year\"] <= 2020)]\n",
    "\n",
    "#Beregner gjennomsnittlig temperatur for hvert ti-år\n",
    "avg_temp_1980_1989 = temp_1980_1989[\"value\"].mean()\n",
    "avg_temp_1990_1999 = temp_1990_1999[\"value\"].mean()\n",
    "avg_temp_2000_2009 = temp_2000_2009[\"value\"].mean()\n",
    "avg_temp_2010_2020 = temp_2010_2020[\"value\"].mean()\n",
    "\n",
    "#printer ut resultatet med to desimaler og benevning\n",
    "print(f\"Gjennomsnittlig temperatur for 1980-1989: {avg_temp_1980_1989:.2f} °C\")\n",
    "print(f\"Gjennomsnittlig temperatur for 1980-1989: {avg_temp_1990_1999:.2f} °C\")\n",
    "print(f\"Gjennomsnittlig temperatur for 1980-1989: {avg_temp_2000_2009:.2f} °C\")\n",
    "print(f\"Gjennomsnittlig temperatur for 1980-1989: {avg_temp_2010_2020:.2f} °C\")\n"
   ]
  },
  {
   "cell_type": "markdown",
   "metadata": {},
   "source": [
    "## omgjøring til pickle fil"
   ]
  },
  {
   "cell_type": "code",
   "execution_count": 44,
   "metadata": {},
   "outputs": [],
   "source": [
    "data = {\n",
    "    \"Gjennomsnitt_skydekke\" : [avg_skydekke_1980_1989,avg_skydekke_1990_1999,avg_skydekke_2000_2009,avg_skydekke_2010_2020],\n",
    "    \"Gjennomsnitt_nedbør \" : [avg_nedbor_1980_1989,avg_nedbor_1990_1999,avg_nedbor_2000_2009,avg_nedbor_2010_2020],\n",
    "    \"Gjennomsnitt_temperatur\" : [avg_temp_1980_1989,avg_temp_1990_1999,avg_temp_2000_2009,avg_temp_2010_2020]\n",
    "    \n",
    "\n",
    "}\n",
    "with open(\"Gjennomsnitt.pkl\", \"wb\") as f:\n",
    "    pickle.dump(data, f)"
   ]
  }
 ],
 "metadata": {
  "kernelspec": {
   "display_name": "venv",
   "language": "python",
   "name": "python3"
  },
  "language_info": {
   "codemirror_mode": {
    "name": "ipython",
    "version": 3
   },
   "file_extension": ".py",
   "mimetype": "text/x-python",
   "name": "python",
   "nbconvert_exporter": "python",
   "pygments_lexer": "ipython3",
   "version": "3.13.2"
  }
 },
 "nbformat": 4,
 "nbformat_minor": 2
}
