{
 "cells": [
  {
   "cell_type": "markdown",
   "metadata": {},
   "source": [
    "Henter data fra pickle filene"
   ]
  },
  {
   "cell_type": "code",
   "execution_count": 120,
   "metadata": {},
   "outputs": [
    {
     "name": "stdout",
     "output_type": "stream",
     "text": [
      "Standardavvik for lufttrykk: 12.59\n",
      "Standardavvik for nedbør: 11.98\n",
      "Standardavvik for temperatur: 0.98\n"
     ]
    }
   ],
   "source": [
    "import pickle\n",
    "import pandas as pd\n",
    "\n",
    "#Henter ut tabellene \n",
    "with open(\"../data/renset_data_lufttrykk.pkl\", \"rb\") as f:\n",
    "    df_lufttrykk = pickle.load(f)\n",
    " \n",
    "with open(\"../data/renset_data_nedbor.pkl\", \"rb\") as f:\n",
    "    df_nedbor = pickle.load(f)\n",
    " \n",
    "with open(\"../data/renset_data_temperatur.pkl\", \"rb\") as f:\n",
    "    df_temperatur = pickle.load(f)\n",
    "\n",
    "\n",
    "#Beregner standardavvik for alle kolonner i hver dataframe\n",
    "std_lufttrykk = df_lufttrykk.select_dtypes(include=\"number\").std()\n",
    "std_nedbor = df_nedbor.select_dtypes(include=\"number\").std()\n",
    "std_temperatur = df_temperatur.select_dtypes(include=\"number\").std()\n",
    "\n",
    "print(f\"Standardavvik for lufttrykk: {std_lufttrykk.iloc[0]:.2f}\")\n",
    "print(f\"Standardavvik for nedbør: {std_nedbor.iloc[0]:.2f}\")\n",
    "print(f\"Standardavvik for temperatur: {std_temperatur.iloc[0]:.2f}\")\n"
   ]
  },
  {
   "cell_type": "markdown",
   "metadata": {},
   "source": [
    "Standardavvik for lufttrykk"
   ]
  },
  {
   "cell_type": "code",
   "execution_count": 121,
   "metadata": {},
   "outputs": [
    {
     "name": "stdout",
     "output_type": "stream",
     "text": [
      "Standardavvik for lufttrykk 1980-2020: 12.59\n"
     ]
    }
   ],
   "source": [
    "#Regner ut standardavviket\n",
    "std_lufttrykk = df_lufttrykk.select_dtypes(include=\"number\").std()\n",
    "#Printer ut\n",
    "print(f\"Standardavvik for lufttrykk 1980-2020: {std_lufttrykk.iloc[0]:.2f}\")"
   ]
  },
  {
   "cell_type": "markdown",
   "metadata": {},
   "source": [
    "Standardavvik for nedbør"
   ]
  },
  {
   "cell_type": "code",
   "execution_count": 132,
   "metadata": {},
   "outputs": [
    {
     "name": "stdout",
     "output_type": "stream",
     "text": [
      "Standardavvik for nedbør 1980-2020: 0.00\n",
      "\n",
      "Standardavvik for nedbør 1980-1989: nan\n",
      "Standardavvik for nedbør 1990-1999: nan\n",
      "Standardavvik for nedbør 2000-2009: nan\n",
      "Standardavvik for nedbør 2010-2020: nan\n"
     ]
    }
   ],
   "source": [
    "#Endrer \"refrenceTime\" tiil \"year\"\n",
    "df_nedbor.rename(columns={\"referenceTime\" : \"year\"}, inplace=True)\n",
    "\n",
    "#Konverterer \"year\" til kun årstall\n",
    "df_nedbor[\"year\"] = pd.to_datetime(df_nedbor[\"year\"]).dt.year\n",
    "\n",
    "#Henter ut verdier gruppert på årstall\n",
    "nedbor_1980_1989 = df_nedbor[(df_nedbor[\"year\"] >= 1980) & (df_nedbor[\"year\"] <= 1989)]\n",
    "nedbor_1990_1999 = df_nedbor[(df_nedbor[\"year\"] >= 1990) & (df_nedbor[\"year\"] <= 1999)]\n",
    "nedbor_2000_2009 = df_nedbor[(df_nedbor[\"year\"] >= 2000) & (df_nedbor[\"year\"] <= 2009)]\n",
    "nedbor_2010_2020 = df_nedbor[(df_nedbor[\"year\"] >= 2010) & (df_nedbor[\"year\"] <= 2020)]\n",
    "\n",
    "#Utregning av standardavvik i de ulike tiårene\n",
    "nedbor_1980_1989_standardavvik = nedbor_1980_1989.select_dtypes(include=\"number\").std()\n",
    "nedbor_1990_1999_standardavvik = nedbor_1990_1999.select_dtypes(include=\"number\").std()\n",
    "nedbor_2000_2009_standardavvik = nedbor_2000_2009.select_dtypes(include=\"number\").std()\n",
    "nedbor_2010_2020_standardavvik = nedbor_2010_2020.select_dtypes(include=\"number\").std()\n",
    "\n",
    "#Regner ut standardavviket\n",
    "std_nedbor = df_nedbor.select_dtypes(include=\"number\").std()\n",
    "#Printer ut\n",
    "print(f\"Standardavvik for nedbør 1980-2020: {std_nedbor.iloc[0]:.2f}\\n\")\n",
    "print(f\"Standardavvik for nedbør 1980-1989: {nedbor_1980_1989_standardavvik.iloc[0]:.2f}\")\n",
    "print(f\"Standardavvik for nedbør 1990-1999: {nedbor_1990_1999_standardavvik.iloc[0]:.2f}\")\n",
    "print(f\"Standardavvik for nedbør 2000-2009: {nedbor_2000_2009_standardavvik.iloc[0]:.2f}\")\n",
    "print(f\"Standardavvik for nedbør 2010-2020: {nedbor_2010_2020_standardavvik.iloc[0]:.2f}\")"
   ]
  },
  {
   "cell_type": "markdown",
   "metadata": {},
   "source": [
    "Standardavvik for temperatur"
   ]
  },
  {
   "cell_type": "code",
   "execution_count": 123,
   "metadata": {},
   "outputs": [
    {
     "name": "stdout",
     "output_type": "stream",
     "text": [
      "Standardavvik for temperatur 1980-2020: 11.98\n",
      "Standardavvik i temperatur for 1980-1989: 3.03\n",
      "Standardavvik i temperatur for 1990-1999: 3.03\n",
      "Standardavvik i temperatur for 2000-2009: 3.03\n",
      "Standardavvik i temperatur for 2010-2020: 3.32\n"
     ]
    }
   ],
   "source": [
    "#Konverterer år til int (til å gruppere på årstall senere)\n",
    "df_temperatur[\"year\"] = df_temperatur[\"year\"].astype(int)  \n",
    " \n",
    "#Henter ut verdier gruppert på årstall\n",
    "temp_1980_1989 = df_temperatur[(df_temperatur[\"year\"] >= 1980) & (df_temperatur[\"year\"] <= 1989)]\n",
    "temp_1990_1999 = df_temperatur[(df_temperatur[\"year\"] >= 1990) & (df_temperatur[\"year\"] <= 1999)]\n",
    "temp_2000_2009 = df_temperatur[(df_temperatur[\"year\"] >= 2000) & (df_temperatur[\"year\"] <= 2009)]\n",
    "temp_2010_2020 = df_temperatur[(df_temperatur[\"year\"] >= 2010) & (df_temperatur[\"year\"] <= 2020)]\n",
    "\n",
    "#Utregning av standardavvik i de ulike tiårene\n",
    "temp_1980_1989_standardavvik = temp_1980_1989.select_dtypes(include=\"number\").std()\n",
    "temp_1990_1999_standardavvik = temp_1990_1999.select_dtypes(include=\"number\").std()\n",
    "temp_2000_2009_standardavvik = temp_2000_2009.select_dtypes(include=\"number\").std()\n",
    "temp_2010_2020_standardavvik = temp_2010_2020.select_dtypes(include=\"number\").std()\n",
    "\n",
    "#Utregning av standardavvik for alle 40 årene\n",
    "std_temperatur = df_temperatur.select_dtypes(include=\"number\").std()\n",
    "\n",
    "#Printer ut\n",
    "print(f\"Standardavvik for temperatur 1980-2020: {std_temperatur.iloc[0]:.2f}\")\n",
    "print(f\"Standardavvik i temperatur for 1980-1989: {temp_1980_1989_standardavvik.iloc[0]:.2f}\")\n",
    "print(f\"Standardavvik i temperatur for 1990-1999: {temp_1990_1999_standardavvik.iloc[0]:.2f}\")\n",
    "print(f\"Standardavvik i temperatur for 2000-2009: {temp_2000_2009_standardavvik.iloc[0]:.2f}\")\n",
    "print(f\"Standardavvik i temperatur for 2010-2020: {temp_2010_2020_standardavvik.iloc[0]:.2f}\")"
   ]
  }
 ],
 "metadata": {
  "kernelspec": {
   "display_name": "Python 3",
   "language": "python",
   "name": "python3"
  },
  "language_info": {
   "codemirror_mode": {
    "name": "ipython",
    "version": 3
   },
   "file_extension": ".py",
   "mimetype": "text/x-python",
   "name": "python",
   "nbconvert_exporter": "python",
   "pygments_lexer": "ipython3",
   "version": "3.13.2"
  }
 },
 "nbformat": 4,
 "nbformat_minor": 2
}
