{
 "cells": [
  {
   "cell_type": "code",
   "execution_count": 26,
   "metadata": {},
   "outputs": [
    {
     "name": "stdout",
     "output_type": "stream",
     "text": [
      "Standardavvik for lufttrykk: 12.59\n",
      "Standardavvik for nedbør: 6.15\n",
      "Standardavvik for temperatur: 0.98\n"
     ]
    }
   ],
   "source": [
    "import pickle\n",
    "\n",
    "#Henter ut tabellene \n",
    "with open(\"../data/renset_data_lufttrykk.pkl\", \"rb\") as f:\n",
    "    df_lufttrykk = pickle.load(f)\n",
    " \n",
    "with open(\"../data/renset_data_nedbor.pkl\", \"rb\") as f:\n",
    "    df_nedbor = pickle.load(f)\n",
    " \n",
    "with open(\"../data/renset_data_temperatur.pkl\", \"rb\") as f:\n",
    "    df_temperatur = pickle.load(f)\n",
    "\n",
    "\n",
    "#Beregner standardavvik for alle kolonner i hver dataframe\n",
    "std_lufttrykk = df_lufttrykk.select_dtypes(include=\"number\").std()\n",
    "std_nedbor = df_nedbor.select_dtypes(include=\"number\").std()\n",
    "std_temperatur = df_temperatur.select_dtypes(include=\"number\").std()\n",
    "\n",
    "print(f\"Standardavvik for lufttrykk: {std_lufttrykk.iloc[0]:.2f}\")\n",
    "print(f\"Standardavvik for nedbør: {std_nedbor.iloc[0]:.2f}\")\n",
    "print(f\"Standardavvik for temperatur: {std_temperatur.iloc[0]:.2f}\")\n"
   ]
  },
  {
   "cell_type": "code",
   "execution_count": 39,
   "metadata": {},
   "outputs": [
    {
     "name": "stdout",
     "output_type": "stream",
     "text": [
      "Standardavvik i temperatur for 1980-1989: 3.03\n",
      "Standardavvik i temperatur for 1990-1999: 3.03\n",
      "Standardavvik i temperatur for 2000-2009: 3.03\n",
      "Standardavvik i temperatur for 2010-2020: 3.32\n"
     ]
    }
   ],
   "source": [
    "#Konverterer år til int (til å gruppere på årstall senere)\n",
    "df_temperatur[\"year\"] = df_temperatur[\"year\"].astype(int)  \n",
    " \n",
    "#Henter ut verdier gruppert på årstall\n",
    "temp_1980_1989 = df_temperatur[(df_temperatur[\"year\"] >= 1980) & (df_temperatur[\"year\"] <= 1989)]\n",
    "temp_1990_1999 = df_temperatur[(df_temperatur[\"year\"] >= 1990) & (df_temperatur[\"year\"] <= 1999)]\n",
    "temp_2000_2009 = df_temperatur[(df_temperatur[\"year\"] >= 2000) & (df_temperatur[\"year\"] <= 2009)]\n",
    "temp_2010_2020 = df_temperatur[(df_temperatur[\"year\"] >= 2010) & (df_temperatur[\"year\"] <= 2020)]\n",
    "\n",
    "#Utregning av standardavvik i de ulike tiårene\n",
    "temp_1980_1989_standardavvik = temp_1980_1989.select_dtypes(include=\"number\").std()\n",
    "temp_1990_1999_standardavvik = temp_1990_1999.select_dtypes(include=\"number\").std()\n",
    "temp_2000_2009_standardavvik = temp_2000_2009.select_dtypes(include=\"number\").std()\n",
    "temp_2010_2020_standardavvik = temp_2010_2020.select_dtypes(include=\"number\").std()\n",
    " \n",
    "print(f\"Standardavvik i temperatur for 1980-1989: {temp_1980_1989_standardavvik.iloc[0]:.2f}\")\n",
    "print(f\"Standardavvik i temperatur for 1990-1999: {temp_1990_1999_standardavvik.iloc[0]:.2f}\")\n",
    "print(f\"Standardavvik i temperatur for 2000-2009: {temp_2000_2009_standardavvik.iloc[0]:.2f}\")\n",
    "print(f\"Standardavvik i temperatur for 2010-2020: {temp_2010_2020_standardavvik.iloc[0]:.2f}\")"
   ]
  }
 ],
 "metadata": {
  "kernelspec": {
   "display_name": "Python 3",
   "language": "python",
   "name": "python3"
  },
  "language_info": {
   "codemirror_mode": {
    "name": "ipython",
    "version": 3
   },
   "file_extension": ".py",
   "mimetype": "text/x-python",
   "name": "python",
   "nbconvert_exporter": "python",
   "pygments_lexer": "ipython3",
   "version": "3.13.2"
  }
 },
 "nbformat": 4,
 "nbformat_minor": 2
}
