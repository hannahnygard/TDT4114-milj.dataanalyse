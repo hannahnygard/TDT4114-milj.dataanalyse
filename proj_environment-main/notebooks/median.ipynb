{
 "cells": [
  {
   "cell_type": "code",
   "execution_count": 71,
   "metadata": {},
   "outputs": [],
   "source": [
    "import numpy as np\n",
    "import pickle\n",
    "import pandas as pd "
   ]
  },
  {
   "cell_type": "markdown",
   "metadata": {},
   "source": [
    "# Henter ut dataen"
   ]
  },
  {
   "cell_type": "code",
   "execution_count": 72,
   "metadata": {},
   "outputs": [],
   "source": [
    "\n",
    "#Henter ut tabellene \n",
    "with open(\"../data/renset_data_lufttrykk.pkl\", \"rb\") as f:\n",
    "    df_lufttrykk = pickle.load(f)\n",
    "\n",
    "with open(\"../data/renset_data_nedbor.pkl\", \"rb\") as f:\n",
    "    df_nedbor = pickle.load(f)\n",
    "\n",
    "with open(\"../data/renset_data_temperatur.pkl\", \"rb\") as f:\n",
    "    df_temperatur = pickle.load(f)\n",
    "\n",
    "\n"
   ]
  },
  {
   "cell_type": "markdown",
   "metadata": {},
   "source": [
    "# Luftttrykk"
   ]
  },
  {
   "cell_type": "code",
   "execution_count": 73,
   "metadata": {},
   "outputs": [
    {
     "name": "stdout",
     "output_type": "stream",
     "text": [
      "Lufttrykksmedian for 2023:  1011.45\n"
     ]
    }
   ],
   "source": [
    "lufttrykk = df_lufttrykk[\"air_pressure\"]\n",
    "\n",
    "#Printer for å teste \n",
    "#print(lufttrykk)\n",
    "\n",
    "lufttrykk_median = lufttrykk.median()\n",
    "print(\"Lufttrykksmedian for 2023: \", lufttrykk_median)\n"
   ]
  },
  {
   "cell_type": "markdown",
   "metadata": {},
   "source": [
    "# Nedbør"
   ]
  },
  {
   "cell_type": "code",
   "execution_count": 74,
   "metadata": {},
   "outputs": [
    {
     "name": "stdout",
     "output_type": "stream",
     "text": [
      "Nedbørsmedian for 2023:  0.2\n"
     ]
    }
   ],
   "source": [
    "nedbor = df_nedbor[\"value\"]\n",
    "\n",
    "#Printer for å teste \n",
    "#print(nedbor)\n",
    "\n",
    "nedbor_median = nedbor.median()\n",
    "print(\"Nedbørsmedian for 2023: \", nedbor_median)\n"
   ]
  },
  {
   "cell_type": "markdown",
   "metadata": {},
   "source": [
    "# Temperatur"
   ]
  },
  {
   "cell_type": "code",
   "execution_count": 79,
   "metadata": {},
   "outputs": [
    {
     "name": "stdout",
     "output_type": "stream",
     "text": [
      "Temperatursmedianen for 1980-1989:  5.85 °C\n",
      "Temperatursmedianen for 1990-1999:  6.55 °C\n",
      "Temperatursmedianen for 2000-2009:  7.2 °C\n",
      "Temperatursmedianen for 2010-2020:  7.3 °C\n"
     ]
    }
   ],
   "source": [
    "\n",
    "#Konverterer år til int (til å gruppere på årstall senere)\n",
    "df_temperatur[\"year\"] = df_temperatur[\"year\"].astype(int)  \n",
    "\n",
    "#Henter ut verdier gruppert på årstall\n",
    "temp_1980_1989 = df_temperatur[(df_temperatur[\"year\"] >= 1980) & (df_temperatur[\"year\"] <= 1989)]\n",
    "temp_1990_1999 = df_temperatur[(df_temperatur[\"year\"] >= 1990) & (df_temperatur[\"year\"] <= 1999)]\n",
    "temp_2000_2009 = df_temperatur[(df_temperatur[\"year\"] >= 2000) & (df_temperatur[\"year\"] <= 2009)]\n",
    "temp_2010_2020 = df_temperatur[(df_temperatur[\"year\"] >= 2010) & (df_temperatur[\"year\"] <= 2020)]\n",
    "\n",
    "\n",
    "temp_1980_1989_median = temp_1980_1989[\"value\"].median().round(2)\n",
    "temp_1990_1999_median = temp_1990_1999[\"value\"].median().round(2)\n",
    "temp_2000_2009_median = temp_2000_2009[\"value\"].median().round(2)\n",
    "temp_2010_2020_median = temp_2010_2020[\"value\"].median().round(2)\n",
    "\n",
    "print(\"Temperatursmedianen for 1980-1989: \", temp_1980_1989_median, \"°C\")\n",
    "print(\"Temperatursmedianen for 1990-1999: \", temp_1990_1999_median, \"°C\")\n",
    "print(\"Temperatursmedianen for 2000-2009: \", temp_2000_2009_median, \"°C\")\n",
    "print(\"Temperatursmedianen for 2010-2020: \", temp_2010_2020_median, \"°C\")\n",
    "\n"
   ]
  },
  {
   "cell_type": "markdown",
   "metadata": {},
   "source": [
    "# Median oppsummering"
   ]
  },
  {
   "cell_type": "code",
   "execution_count": 76,
   "metadata": {},
   "outputs": [
    {
     "data": {
      "text/html": [
       "<div>\n",
       "<style scoped>\n",
       "    .dataframe tbody tr th:only-of-type {\n",
       "        vertical-align: middle;\n",
       "    }\n",
       "\n",
       "    .dataframe tbody tr th {\n",
       "        vertical-align: top;\n",
       "    }\n",
       "\n",
       "    .dataframe thead th {\n",
       "        text-align: right;\n",
       "    }\n",
       "</style>\n",
       "<table border=\"1\" class=\"dataframe\">\n",
       "  <thead>\n",
       "    <tr style=\"text-align: right;\">\n",
       "      <th></th>\n",
       "      <th>Værelement</th>\n",
       "      <th>Verdi</th>\n",
       "      <th>Beskrivelse</th>\n",
       "    </tr>\n",
       "  </thead>\n",
       "  <tbody>\n",
       "    <tr>\n",
       "      <th>0</th>\n",
       "      <td>Lufttrykk</td>\n",
       "      <td>1011.45</td>\n",
       "      <td>Medianen av de daglige verdiene for lufttrykke...</td>\n",
       "    </tr>\n",
       "    <tr>\n",
       "      <th>1</th>\n",
       "      <td>Nedbør</td>\n",
       "      <td>0.20</td>\n",
       "      <td>Median av de daglige verdiene for nedbøres gje...</td>\n",
       "    </tr>\n",
       "    <tr>\n",
       "      <th>2</th>\n",
       "      <td>Temperatur, intervall 1</td>\n",
       "      <td>5.85</td>\n",
       "      <td>Mediantemperaturen fra årsintervalet 1980-1989</td>\n",
       "    </tr>\n",
       "    <tr>\n",
       "      <th>3</th>\n",
       "      <td>Temperatur, intervall 2</td>\n",
       "      <td>6.55</td>\n",
       "      <td>Mediantemperaturen fra årsintervalet 1990-1999</td>\n",
       "    </tr>\n",
       "    <tr>\n",
       "      <th>4</th>\n",
       "      <td>Temperatur, intervall 3</td>\n",
       "      <td>7.20</td>\n",
       "      <td>Mediantemperaturen fra årsintervalet 2000-2009</td>\n",
       "    </tr>\n",
       "    <tr>\n",
       "      <th>5</th>\n",
       "      <td>Temperatur, intervall 4</td>\n",
       "      <td>7.30</td>\n",
       "      <td>Mediantemperaturen fra årsintervalet 2010-2020</td>\n",
       "    </tr>\n",
       "  </tbody>\n",
       "</table>\n",
       "</div>"
      ],
      "text/plain": [
       "                Værelement    Verdi  \\\n",
       "0                Lufttrykk  1011.45   \n",
       "1                   Nedbør     0.20   \n",
       "2  Temperatur, intervall 1     5.85   \n",
       "3  Temperatur, intervall 2     6.55   \n",
       "4  Temperatur, intervall 3     7.20   \n",
       "5  Temperatur, intervall 4     7.30   \n",
       "\n",
       "                                         Beskrivelse  \n",
       "0  Medianen av de daglige verdiene for lufttrykke...  \n",
       "1  Median av de daglige verdiene for nedbøres gje...  \n",
       "2     Mediantemperaturen fra årsintervalet 1980-1989  \n",
       "3     Mediantemperaturen fra årsintervalet 1990-1999  \n",
       "4     Mediantemperaturen fra årsintervalet 2000-2009  \n",
       "5     Mediantemperaturen fra årsintervalet 2010-2020  "
      ]
     },
     "metadata": {},
     "output_type": "display_data"
    }
   ],
   "source": [
    "data = [\n",
    "    [\"Lufttrykk\", lufttrykk_median, \"Medianen av de daglige verdiene for lufttrykket gjennom hele 2023\"],\n",
    "    [\"Nedbør\", nedbor_median, \"Median av de daglige verdiene for nedbøres gjennom hele 2023\"],\n",
    "    [\"Temperatur, intervall 1\", temp_1980_1989_median, \"Mediantemperaturen fra årsintervalet 1980-1989\"],\n",
    "    [\"Temperatur, intervall 2\", temp_1990_1999_median, \"Mediantemperaturen fra årsintervalet 1990-1999\"],\n",
    "    [\"Temperatur, intervall 3\", temp_2000_2009_median, \"Mediantemperaturen fra årsintervalet 2000-2009\"],\n",
    "    [\"Temperatur, intervall 4\", temp_2010_2020_median, \"Mediantemperaturen fra årsintervalet 2010-2020\"]\n",
    "]\n",
    "\n",
    "df_median = pd.DataFrame(data, columns=[\"Værelement\", \"Verdi\", \"Beskrivelse\"])\n",
    "display(df_median)"
   ]
  }
 ],
 "metadata": {
  "kernelspec": {
   "display_name": "venv",
   "language": "python",
   "name": "python3"
  },
  "language_info": {
   "codemirror_mode": {
    "name": "ipython",
    "version": 3
   },
   "file_extension": ".py",
   "mimetype": "text/x-python",
   "name": "python",
   "nbconvert_exporter": "python",
   "pygments_lexer": "ipython3",
   "version": "3.13.2"
  }
 },
 "nbformat": 4,
 "nbformat_minor": 2
}
