{
 "cells": [
  {
   "cell_type": "code",
   "execution_count": 122,
   "metadata": {},
   "outputs": [],
   "source": [
    "import numpy as np\n",
    "import pickle\n",
    "import pandas as pd "
   ]
  },
  {
   "cell_type": "markdown",
   "metadata": {},
   "source": [
    "# Henter ut dataen"
   ]
  },
  {
   "cell_type": "code",
   "execution_count": 123,
   "metadata": {},
   "outputs": [],
   "source": [
    "\n",
    "#Henter ut tabellene \n",
    "with open(\"../data/renset_data_skydekke.pkl\", \"rb\") as f:\n",
    "    df_skydekke = pickle.load(f)\n",
    "\n",
    "with open(\"../data/renset_data_nedbor.pkl\", \"rb\") as f:\n",
    "    df_nedbor = pickle.load(f)\n",
    "\n",
    "with open(\"../data/renset_data_temperatur.pkl\", \"rb\") as f:\n",
    "    df_temperatur = pickle.load(f)\n",
    "\n",
    "\n"
   ]
  },
  {
   "cell_type": "markdown",
   "metadata": {},
   "source": [
    "Verdt å nevne:\n",
    "-Samme kode har blitt gjenbrukt gjennom filen, med tilpasninger til dataen den henter ut  "
   ]
  },
  {
   "cell_type": "markdown",
   "metadata": {},
   "source": [
    "# Skydekke"
   ]
  },
  {
   "cell_type": "code",
   "execution_count": 125,
   "metadata": {},
   "outputs": [
    {
     "name": "stdout",
     "output_type": "stream",
     "text": [
      "Medianen for skydekket for 1980-1989:  5.2 bananer\n",
      "Medianen for skydekket for 1990-1999:  5.3 bananer\n",
      "Medianen for skydekket for 2000-2009:  5.6 bananer\n",
      "Medianen for skydekket for 2010-2020:  5.6 bananer\n"
     ]
    }
   ],
   "source": [
    "#Printer for å teste \n",
    "#display(skydekke)\n",
    "\n",
    "#Konverterer år til int (til å gruppere på årstall senere)\n",
    "df_skydekke[\"year\"] = df_skydekke[\"year\"].astype(int)  \n",
    "\n",
    "#Henter ut verdier gruppert på årstall\n",
    "sky_1980_1989 = df_skydekke[(df_skydekke[\"year\"] >= 1980) & (df_skydekke[\"year\"] <= 1989)]\n",
    "sky_1990_1999 = df_skydekke[(df_skydekke[\"year\"] >= 1990) & (df_skydekke[\"year\"] <= 1999)]\n",
    "sky_2000_2009 = df_skydekke[(df_skydekke[\"year\"] >= 2000) & (df_skydekke[\"year\"] <= 2009)]\n",
    "sky_2010_2020 = df_skydekke[(df_skydekke[\"year\"] >= 2010) & (df_skydekke[\"year\"] <= 2020)]\n",
    "\n",
    "\n",
    "sky_1980_1989_median = sky_1980_1989[\"values\"].median().round(2)\n",
    "sky_1990_1999_median = sky_1990_1999[\"values\"].median().round(2)\n",
    "sky_2000_2009_median = sky_2000_2009[\"values\"].median().round(2)\n",
    "sky_2010_2020_median = sky_2010_2020[\"values\"].median().round(2)\n",
    "\n",
    "print(\"Medianen for skydekket for 1980-1989: \", sky_1980_1989_median, \"bananer\")\n",
    "print(\"Medianen for skydekket for 1990-1999: \", sky_1990_1999_median, \"bananer\")\n",
    "print(\"Medianen for skydekket for 2000-2009: \", sky_2000_2009_median, \"bananer\")\n",
    "print(\"Medianen for skydekket for 2010-2020: \", sky_2010_2020_median, \"bananer\")\n",
    "\n"
   ]
  },
  {
   "cell_type": "markdown",
   "metadata": {},
   "source": [
    "# Nedbør"
   ]
  },
  {
   "cell_type": "code",
   "execution_count": 126,
   "metadata": {},
   "outputs": [
    {
     "name": "stdout",
     "output_type": "stream",
     "text": [
      "Medianen for nedbøret for 1980-1989:  809.15 .\n",
      "Medianen for nedbøret for 1990-1999:  722.7 .\n",
      "Medianen for nedbøret for 2000-2009:  853.05 .\n",
      "Medianen for nedbøret for 2010-2020:  942.2 .\n"
     ]
    }
   ],
   "source": [
    "#Renamer kolonne til year, gjør også year om til kun år-format\n",
    "df_nedbor.rename(columns={\"referenceTime\" : \"year\"}, inplace=True)\n",
    "df_nedbor[\"year\"] = pd.to_datetime(df_nedbor[\"year\"]).dt.year\n",
    "\n",
    "#display(df_nedbor)\n",
    "\n",
    "#Konverterer år til int (til å gruppere på årstall senere)\n",
    "df_nedbor[\"year\"] = df_nedbor[\"year\"].astype(int)  \n",
    "\n",
    "#Henter ut verdier gruppert på årstall\n",
    "nedbor_1980_1989 = df_nedbor[(df_nedbor[\"year\"] >= 1980) & (df_nedbor[\"year\"] <= 1989)]\n",
    "nedbor_1990_1999 = df_nedbor[(df_nedbor[\"year\"] >= 1990) & (df_nedbor[\"year\"] <= 1999)]\n",
    "nedbor_2000_2009 = df_nedbor[(df_nedbor[\"year\"] >= 2000) & (df_nedbor[\"year\"] <= 2009)]\n",
    "nedbor_2010_2020 = df_nedbor[(df_nedbor[\"year\"] >= 2010) & (df_nedbor[\"year\"] <= 2020)]\n",
    "\n",
    "\n",
    "\n",
    "nedbor_1980_1989_median = nedbor_1980_1989[\"value\"].median()\n",
    "nedbor_1990_1999_median = nedbor_1990_1999[\"value\"].median()\n",
    "nedbor_2000_2009_median = nedbor_2000_2009[\"value\"].median()\n",
    "nedbor_2010_2020_median = nedbor_2010_2020[\"value\"].median()\n",
    "\n",
    "\n",
    "print(\"Medianen for nedbøret for 1980-1989: \", nedbor_1980_1989_median, \".\")\n",
    "print(\"Medianen for nedbøret for 1990-1999: \", nedbor_1990_1999_median, \".\")\n",
    "print(\"Medianen for nedbøret for 2000-2009: \", nedbor_2000_2009_median, \".\")\n",
    "print(\"Medianen for nedbøret for 2010-2020: \", nedbor_2010_2020_median, \".\")\n",
    "\n",
    "\n"
   ]
  },
  {
   "cell_type": "markdown",
   "metadata": {},
   "source": [
    "# Temperatur"
   ]
  },
  {
   "cell_type": "code",
   "execution_count": 127,
   "metadata": {},
   "outputs": [
    {
     "name": "stdout",
     "output_type": "stream",
     "text": [
      "Temperatursmedianen for 1980-1989:  5.85 °C\n",
      "Temperatursmedianen for 1990-1999:  6.55 °C\n",
      "Temperatursmedianen for 2000-2009:  7.2 °C\n",
      "Temperatursmedianen for 2010-2020:  7.3 °C\n"
     ]
    }
   ],
   "source": [
    "\n",
    "#Konverterer år til int (til å gruppere på årstall senere)\n",
    "df_temperatur[\"year\"] = df_temperatur[\"year\"].astype(int)  \n",
    "\n",
    "#Henter ut verdier gruppert på årstall\n",
    "temp_1980_1989 = df_temperatur[(df_temperatur[\"year\"] >= 1980) & (df_temperatur[\"year\"] <= 1989)]\n",
    "temp_1990_1999 = df_temperatur[(df_temperatur[\"year\"] >= 1990) & (df_temperatur[\"year\"] <= 1999)]\n",
    "temp_2000_2009 = df_temperatur[(df_temperatur[\"year\"] >= 2000) & (df_temperatur[\"year\"] <= 2009)]\n",
    "temp_2010_2020 = df_temperatur[(df_temperatur[\"year\"] >= 2010) & (df_temperatur[\"year\"] <= 2020)]\n",
    "\n",
    "\n",
    "temp_1980_1989_median = temp_1980_1989[\"value\"].median().round(2)\n",
    "temp_1990_1999_median = temp_1990_1999[\"value\"].median().round(2)\n",
    "temp_2000_2009_median = temp_2000_2009[\"value\"].median().round(2)\n",
    "temp_2010_2020_median = temp_2010_2020[\"value\"].median().round(2)\n",
    "\n",
    "print(\"Temperatursmedianen for 1980-1989: \", temp_1980_1989_median, \"°C\")\n",
    "print(\"Temperatursmedianen for 1990-1999: \", temp_1990_1999_median, \"°C\")\n",
    "print(\"Temperatursmedianen for 2000-2009: \", temp_2000_2009_median, \"°C\")\n",
    "print(\"Temperatursmedianen for 2010-2020: \", temp_2010_2020_median, \"°C\")\n",
    "\n"
   ]
  },
  {
   "cell_type": "markdown",
   "metadata": {},
   "source": [
    "# Median oppsummering"
   ]
  },
  {
   "cell_type": "code",
   "execution_count": 129,
   "metadata": {},
   "outputs": [
    {
     "data": {
      "text/html": [
       "<div>\n",
       "<style scoped>\n",
       "    .dataframe tbody tr th:only-of-type {\n",
       "        vertical-align: middle;\n",
       "    }\n",
       "\n",
       "    .dataframe tbody tr th {\n",
       "        vertical-align: top;\n",
       "    }\n",
       "\n",
       "    .dataframe thead th {\n",
       "        text-align: right;\n",
       "    }\n",
       "</style>\n",
       "<table border=\"1\" class=\"dataframe\">\n",
       "  <thead>\n",
       "    <tr style=\"text-align: right;\">\n",
       "      <th></th>\n",
       "      <th>Værelement</th>\n",
       "      <th>Verdi</th>\n",
       "      <th>Beskrivelse</th>\n",
       "    </tr>\n",
       "  </thead>\n",
       "  <tbody>\n",
       "    <tr>\n",
       "      <th>0</th>\n",
       "      <td>Skydekket, intervall 1</td>\n",
       "      <td>5.20</td>\n",
       "      <td>Medianen for skydekket fra årsintervallet 1980...</td>\n",
       "    </tr>\n",
       "    <tr>\n",
       "      <th>1</th>\n",
       "      <td>Skydekket, intervall 2</td>\n",
       "      <td>5.30</td>\n",
       "      <td>Medianen for skydekket fra årsintervallet 1990...</td>\n",
       "    </tr>\n",
       "    <tr>\n",
       "      <th>2</th>\n",
       "      <td>Skydekket, intervall 3</td>\n",
       "      <td>5.60</td>\n",
       "      <td>Medianen for skydekket fra årsintervallet 2000...</td>\n",
       "    </tr>\n",
       "    <tr>\n",
       "      <th>3</th>\n",
       "      <td>Skydekket, intervall 4</td>\n",
       "      <td>5.60</td>\n",
       "      <td>Medianen for skydekket fra årsintervallet 2010...</td>\n",
       "    </tr>\n",
       "    <tr>\n",
       "      <th>4</th>\n",
       "      <td>Nedbør, intervall 1</td>\n",
       "      <td>809.15</td>\n",
       "      <td>Medianen for nedbør fra årsintervallet 1980-1989</td>\n",
       "    </tr>\n",
       "    <tr>\n",
       "      <th>5</th>\n",
       "      <td>Nedbør, intervall 2</td>\n",
       "      <td>722.70</td>\n",
       "      <td>Medianen for nedbør fra årsintervallet 1990-1999</td>\n",
       "    </tr>\n",
       "    <tr>\n",
       "      <th>6</th>\n",
       "      <td>Nedbør, intervall 3</td>\n",
       "      <td>853.05</td>\n",
       "      <td>Medianen for nedbør fra årsintervallet 2000-2009</td>\n",
       "    </tr>\n",
       "    <tr>\n",
       "      <th>7</th>\n",
       "      <td>Nedbør, intervall 4</td>\n",
       "      <td>942.20</td>\n",
       "      <td>Medianen for nedbør fra årsintervallet 2010-2020</td>\n",
       "    </tr>\n",
       "    <tr>\n",
       "      <th>8</th>\n",
       "      <td>Temperatur, intervall 1</td>\n",
       "      <td>5.85</td>\n",
       "      <td>Mediantemperaturen fra årsintervalet 1980-1989</td>\n",
       "    </tr>\n",
       "    <tr>\n",
       "      <th>9</th>\n",
       "      <td>Temperatur, intervall 2</td>\n",
       "      <td>6.55</td>\n",
       "      <td>Mediantemperaturen fra årsintervalet 1990-1999</td>\n",
       "    </tr>\n",
       "    <tr>\n",
       "      <th>10</th>\n",
       "      <td>Temperatur, intervall 3</td>\n",
       "      <td>7.20</td>\n",
       "      <td>Mediantemperaturen fra årsintervalet 2000-2009</td>\n",
       "    </tr>\n",
       "    <tr>\n",
       "      <th>11</th>\n",
       "      <td>Temperatur, intervall 4</td>\n",
       "      <td>7.30</td>\n",
       "      <td>Mediantemperaturen fra årsintervalet 2010-2020</td>\n",
       "    </tr>\n",
       "  </tbody>\n",
       "</table>\n",
       "</div>"
      ],
      "text/plain": [
       "                 Værelement   Verdi  \\\n",
       "0    Skydekket, intervall 1    5.20   \n",
       "1    Skydekket, intervall 2    5.30   \n",
       "2    Skydekket, intervall 3    5.60   \n",
       "3    Skydekket, intervall 4    5.60   \n",
       "4       Nedbør, intervall 1  809.15   \n",
       "5       Nedbør, intervall 2  722.70   \n",
       "6       Nedbør, intervall 3  853.05   \n",
       "7       Nedbør, intervall 4  942.20   \n",
       "8   Temperatur, intervall 1    5.85   \n",
       "9   Temperatur, intervall 2    6.55   \n",
       "10  Temperatur, intervall 3    7.20   \n",
       "11  Temperatur, intervall 4    7.30   \n",
       "\n",
       "                                          Beskrivelse  \n",
       "0   Medianen for skydekket fra årsintervallet 1980...  \n",
       "1   Medianen for skydekket fra årsintervallet 1990...  \n",
       "2   Medianen for skydekket fra årsintervallet 2000...  \n",
       "3   Medianen for skydekket fra årsintervallet 2010...  \n",
       "4    Medianen for nedbør fra årsintervallet 1980-1989  \n",
       "5    Medianen for nedbør fra årsintervallet 1990-1999  \n",
       "6    Medianen for nedbør fra årsintervallet 2000-2009  \n",
       "7    Medianen for nedbør fra årsintervallet 2010-2020  \n",
       "8      Mediantemperaturen fra årsintervalet 1980-1989  \n",
       "9      Mediantemperaturen fra årsintervalet 1990-1999  \n",
       "10     Mediantemperaturen fra årsintervalet 2000-2009  \n",
       "11     Mediantemperaturen fra årsintervalet 2010-2020  "
      ]
     },
     "metadata": {},
     "output_type": "display_data"
    }
   ],
   "source": [
    "data = [\n",
    "    [\"Skydekket, intervall 1\", sky_1980_1989_median, \"Medianen for skydekket fra årsintervallet 1980-1989\"],\n",
    "    [\"Skydekket, intervall 2\", sky_1990_1999_median, \"Medianen for skydekket fra årsintervallet 1990-1999\"],\n",
    "    [\"Skydekket, intervall 3\", sky_2000_2009_median, \"Medianen for skydekket fra årsintervallet 2000-2009\"],\n",
    "    [\"Skydekket, intervall 4\", sky_2010_2020_median, \"Medianen for skydekket fra årsintervallet 2010-2020\"],\n",
    "    \n",
    "    [\"Nedbør, intervall 1\", nedbor_1980_1989_median, \"Medianen for nedbør fra årsintervallet 1980-1989\"],\n",
    "    [\"Nedbør, intervall 2\", nedbor_1990_1999_median, \"Medianen for nedbør fra årsintervallet 1990-1999\"],\n",
    "    [\"Nedbør, intervall 3\", nedbor_2000_2009_median, \"Medianen for nedbør fra årsintervallet 2000-2009\"],\n",
    "    [\"Nedbør, intervall 4\", nedbor_2010_2020_median, \"Medianen for nedbør fra årsintervallet 2010-2020\"],\n",
    "\n",
    "    [\"Temperatur, intervall 1\", temp_1980_1989_median, \"Mediantemperaturen fra årsintervalet 1980-1989\"],\n",
    "    [\"Temperatur, intervall 2\", temp_1990_1999_median, \"Mediantemperaturen fra årsintervalet 1990-1999\"],\n",
    "    [\"Temperatur, intervall 3\", temp_2000_2009_median, \"Mediantemperaturen fra årsintervalet 2000-2009\"],\n",
    "    [\"Temperatur, intervall 4\", temp_2010_2020_median, \"Mediantemperaturen fra årsintervalet 2010-2020\"]\n",
    "]\n",
    "\n",
    "df_median = pd.DataFrame(data, columns=[\"Værelement\", \"Verdi\", \"Beskrivelse\"])\n",
    "display(df_median)"
   ]
  }
 ],
 "metadata": {
  "kernelspec": {
   "display_name": "venv",
   "language": "python",
   "name": "python3"
  },
  "language_info": {
   "codemirror_mode": {
    "name": "ipython",
    "version": 3
   },
   "file_extension": ".py",
   "mimetype": "text/x-python",
   "name": "python",
   "nbconvert_exporter": "python",
   "pygments_lexer": "ipython3",
   "version": "3.13.2"
  }
 },
 "nbformat": 4,
 "nbformat_minor": 2
}
