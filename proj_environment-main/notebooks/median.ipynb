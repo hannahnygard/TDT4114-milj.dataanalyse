{
 "cells": [
  {
   "cell_type": "code",
   "execution_count": 5,
   "metadata": {},
   "outputs": [],
   "source": [
    "import numpy as np\n",
    "import pickle\n",
    "import pandas as pd "
   ]
  },
  {
   "cell_type": "markdown",
   "metadata": {},
   "source": [
    "# Henter ut dataen"
   ]
  },
  {
   "cell_type": "code",
   "execution_count": 33,
   "metadata": {},
   "outputs": [],
   "source": [
    "\n",
    "#Henter ut tabellene \n",
    "with open(\"../data/renset_data_skydekke.pkl\", \"rb\") as f:\n",
    "    df_skydekke = pickle.load(f)\n",
    "\n",
    "with open(\"../data/renset_data_nedbor.pkl\", \"rb\") as f:\n",
    "    df_nedbor = pickle.load(f)\n",
    "\n",
    "with open(\"../data/renset_data_temperatur.pkl\", \"rb\") as f:\n",
    "    df_temperatur = pickle.load(f)\n",
    "\n",
    "\n"
   ]
  },
  {
   "cell_type": "markdown",
   "metadata": {},
   "source": [
    "# Skydekke"
   ]
  },
  {
   "cell_type": "code",
   "execution_count": 34,
   "metadata": {},
   "outputs": [
    {
     "name": "stdout",
     "output_type": "stream",
     "text": [
      "Index(['year', 'values', 'unit'], dtype='object')\n"
     ]
    }
   ],
   "source": [
    "print(df_skydekke.columns)"
   ]
  },
  {
   "cell_type": "code",
   "execution_count": 35,
   "metadata": {},
   "outputs": [
    {
     "name": "stdout",
     "output_type": "stream",
     "text": [
      "Medianen for skydekket for 1980-1989:  5.2 bananer\n",
      "Medianen for skydekket for 1990-1999:  5.3 bananer\n",
      "Medianen for skydekket for 2000-2009:  5.6 bananer\n",
      "Medianen for skydekket for 2010-2020:  5.6 bananer\n"
     ]
    }
   ],
   "source": [
    "#Printer for å teste \n",
    "#display(skydekke)\n",
    "\n",
    "#Konverterer år til int (til å gruppere på årstall senere)\n",
    "df_skydekke[\"year\"] = df_skydekke[\"year\"].astype(int)  \n",
    "\n",
    "#Henter ut verdier gruppert på årstall\n",
    "sky_1980_1989 = df_skydekke[(df_skydekke[\"year\"] >= 1980) & (df_skydekke[\"year\"] <= 1989)]\n",
    "sky_1990_1999 = df_skydekke[(df_skydekke[\"year\"] >= 1990) & (df_skydekke[\"year\"] <= 1999)]\n",
    "sky_2000_2009 = df_skydekke[(df_skydekke[\"year\"] >= 2000) & (df_skydekke[\"year\"] <= 2009)]\n",
    "sky_2010_2020 = df_skydekke[(df_skydekke[\"year\"] >= 2010) & (df_skydekke[\"year\"] <= 2020)]\n",
    "\n",
    "\n",
    "sky_1980_1989_median = sky_1980_1989[\"values\"].median().round(2)\n",
    "sky_1990_1999_median = sky_1990_1999[\"values\"].median().round(2)\n",
    "sky_2000_2009_median = sky_2000_2009[\"values\"].median().round(2)\n",
    "sky_2010_2020_median = sky_2010_2020[\"values\"].median().round(2)\n",
    "\n",
    "print(\"Medianen for skydekket for 1980-1989: \", sky_1980_1989_median, \"bananer\")\n",
    "print(\"Medianen for skydekket for 1990-1999: \", sky_1990_1999_median, \"bananer\")\n",
    "print(\"Medianen for skydekket for 2000-2009: \", sky_2000_2009_median, \"bananer\")\n",
    "print(\"Medianen for skydekket for 2010-2020: \", sky_2010_2020_median, \"bananer\")\n",
    "\n"
   ]
  },
  {
   "cell_type": "markdown",
   "metadata": {},
   "source": [
    "# Nedbør"
   ]
  },
  {
   "cell_type": "code",
   "execution_count": 37,
   "metadata": {},
   "outputs": [
    {
     "ename": "KeyError",
     "evalue": "'year'",
     "output_type": "error",
     "traceback": [
      "\u001b[31m---------------------------------------------------------------------------\u001b[39m",
      "\u001b[31mKeyError\u001b[39m                                  Traceback (most recent call last)",
      "\u001b[36mFile \u001b[39m\u001b[32mc:\\Anvendt programmering\\TDT4114-milj.dataanalyse\\proj_environment-main\\venv\\Lib\\site-packages\\pandas\\core\\indexes\\base.py:3805\u001b[39m, in \u001b[36mIndex.get_loc\u001b[39m\u001b[34m(self, key)\u001b[39m\n\u001b[32m   3804\u001b[39m \u001b[38;5;28;01mtry\u001b[39;00m:\n\u001b[32m-> \u001b[39m\u001b[32m3805\u001b[39m     \u001b[38;5;28;01mreturn\u001b[39;00m \u001b[38;5;28;43mself\u001b[39;49m\u001b[43m.\u001b[49m\u001b[43m_engine\u001b[49m\u001b[43m.\u001b[49m\u001b[43mget_loc\u001b[49m\u001b[43m(\u001b[49m\u001b[43mcasted_key\u001b[49m\u001b[43m)\u001b[49m\n\u001b[32m   3806\u001b[39m \u001b[38;5;28;01mexcept\u001b[39;00m \u001b[38;5;167;01mKeyError\u001b[39;00m \u001b[38;5;28;01mas\u001b[39;00m err:\n",
      "\u001b[36mFile \u001b[39m\u001b[32mindex.pyx:167\u001b[39m, in \u001b[36mpandas._libs.index.IndexEngine.get_loc\u001b[39m\u001b[34m()\u001b[39m\n",
      "\u001b[36mFile \u001b[39m\u001b[32mindex.pyx:196\u001b[39m, in \u001b[36mpandas._libs.index.IndexEngine.get_loc\u001b[39m\u001b[34m()\u001b[39m\n",
      "\u001b[36mFile \u001b[39m\u001b[32mpandas\\\\_libs\\\\hashtable_class_helper.pxi:7081\u001b[39m, in \u001b[36mpandas._libs.hashtable.PyObjectHashTable.get_item\u001b[39m\u001b[34m()\u001b[39m\n",
      "\u001b[36mFile \u001b[39m\u001b[32mpandas\\\\_libs\\\\hashtable_class_helper.pxi:7089\u001b[39m, in \u001b[36mpandas._libs.hashtable.PyObjectHashTable.get_item\u001b[39m\u001b[34m()\u001b[39m\n",
      "\u001b[31mKeyError\u001b[39m: 'year'",
      "\nThe above exception was the direct cause of the following exception:\n",
      "\u001b[31mKeyError\u001b[39m                                  Traceback (most recent call last)",
      "\u001b[36mCell\u001b[39m\u001b[36m \u001b[39m\u001b[32mIn[37]\u001b[39m\u001b[32m, line 7\u001b[39m\n\u001b[32m      1\u001b[39m \u001b[38;5;66;03m#nedbor = df_nedbor[\"value\"]\u001b[39;00m\n\u001b[32m      2\u001b[39m \n\u001b[32m      3\u001b[39m \u001b[38;5;66;03m#Printer for å teste \u001b[39;00m\n\u001b[32m      4\u001b[39m \u001b[38;5;66;03m#display(nedbor)\u001b[39;00m\n\u001b[32m      5\u001b[39m \n\u001b[32m      6\u001b[39m \u001b[38;5;66;03m#Konverterer år til int (til å gruppere på årstall senere)\u001b[39;00m\n\u001b[32m----> \u001b[39m\u001b[32m7\u001b[39m df_nedbor[\u001b[33m\"\u001b[39m\u001b[33myear\u001b[39m\u001b[33m\"\u001b[39m] = \u001b[43mdf_nedbor\u001b[49m\u001b[43m[\u001b[49m\u001b[33;43m\"\u001b[39;49m\u001b[33;43myear\u001b[39;49m\u001b[33;43m\"\u001b[39;49m\u001b[43m]\u001b[49m.astype(\u001b[38;5;28mint\u001b[39m)  \n\u001b[32m      9\u001b[39m \u001b[38;5;66;03m#Henter ut verdier gruppert på årstall\u001b[39;00m\n\u001b[32m     10\u001b[39m nedbor_1980_1989 = df_nedbor[(df_nedbor[\u001b[33m\"\u001b[39m\u001b[33myear\u001b[39m\u001b[33m\"\u001b[39m] >= \u001b[32m1980\u001b[39m) & (df_nedbor[\u001b[33m\"\u001b[39m\u001b[33myear\u001b[39m\u001b[33m\"\u001b[39m] <= \u001b[32m1989\u001b[39m)]\n",
      "\u001b[36mFile \u001b[39m\u001b[32mc:\\Anvendt programmering\\TDT4114-milj.dataanalyse\\proj_environment-main\\venv\\Lib\\site-packages\\pandas\\core\\frame.py:4102\u001b[39m, in \u001b[36mDataFrame.__getitem__\u001b[39m\u001b[34m(self, key)\u001b[39m\n\u001b[32m   4100\u001b[39m \u001b[38;5;28;01mif\u001b[39;00m \u001b[38;5;28mself\u001b[39m.columns.nlevels > \u001b[32m1\u001b[39m:\n\u001b[32m   4101\u001b[39m     \u001b[38;5;28;01mreturn\u001b[39;00m \u001b[38;5;28mself\u001b[39m._getitem_multilevel(key)\n\u001b[32m-> \u001b[39m\u001b[32m4102\u001b[39m indexer = \u001b[38;5;28;43mself\u001b[39;49m\u001b[43m.\u001b[49m\u001b[43mcolumns\u001b[49m\u001b[43m.\u001b[49m\u001b[43mget_loc\u001b[49m\u001b[43m(\u001b[49m\u001b[43mkey\u001b[49m\u001b[43m)\u001b[49m\n\u001b[32m   4103\u001b[39m \u001b[38;5;28;01mif\u001b[39;00m is_integer(indexer):\n\u001b[32m   4104\u001b[39m     indexer = [indexer]\n",
      "\u001b[36mFile \u001b[39m\u001b[32mc:\\Anvendt programmering\\TDT4114-milj.dataanalyse\\proj_environment-main\\venv\\Lib\\site-packages\\pandas\\core\\indexes\\base.py:3812\u001b[39m, in \u001b[36mIndex.get_loc\u001b[39m\u001b[34m(self, key)\u001b[39m\n\u001b[32m   3807\u001b[39m     \u001b[38;5;28;01mif\u001b[39;00m \u001b[38;5;28misinstance\u001b[39m(casted_key, \u001b[38;5;28mslice\u001b[39m) \u001b[38;5;129;01mor\u001b[39;00m (\n\u001b[32m   3808\u001b[39m         \u001b[38;5;28misinstance\u001b[39m(casted_key, abc.Iterable)\n\u001b[32m   3809\u001b[39m         \u001b[38;5;129;01mand\u001b[39;00m \u001b[38;5;28many\u001b[39m(\u001b[38;5;28misinstance\u001b[39m(x, \u001b[38;5;28mslice\u001b[39m) \u001b[38;5;28;01mfor\u001b[39;00m x \u001b[38;5;129;01min\u001b[39;00m casted_key)\n\u001b[32m   3810\u001b[39m     ):\n\u001b[32m   3811\u001b[39m         \u001b[38;5;28;01mraise\u001b[39;00m InvalidIndexError(key)\n\u001b[32m-> \u001b[39m\u001b[32m3812\u001b[39m     \u001b[38;5;28;01mraise\u001b[39;00m \u001b[38;5;167;01mKeyError\u001b[39;00m(key) \u001b[38;5;28;01mfrom\u001b[39;00m\u001b[38;5;250m \u001b[39m\u001b[34;01merr\u001b[39;00m\n\u001b[32m   3813\u001b[39m \u001b[38;5;28;01mexcept\u001b[39;00m \u001b[38;5;167;01mTypeError\u001b[39;00m:\n\u001b[32m   3814\u001b[39m     \u001b[38;5;66;03m# If we have a listlike key, _check_indexing_error will raise\u001b[39;00m\n\u001b[32m   3815\u001b[39m     \u001b[38;5;66;03m#  InvalidIndexError. Otherwise we fall through and re-raise\u001b[39;00m\n\u001b[32m   3816\u001b[39m     \u001b[38;5;66;03m#  the TypeError.\u001b[39;00m\n\u001b[32m   3817\u001b[39m     \u001b[38;5;28mself\u001b[39m._check_indexing_error(key)\n",
      "\u001b[31mKeyError\u001b[39m: 'year'"
     ]
    }
   ],
   "source": [
    "#nedbor = df_nedbor[\"value\"]\n",
    "\n",
    "#Printer for å teste \n",
    "#display(nedbor)\n",
    "\n",
    "#Konverterer år til int (til å gruppere på årstall senere)\n",
    "df_nedbor[\"year\"] = df_nedbor[\"year\"].astype(int)  \n",
    "\n",
    "#Henter ut verdier gruppert på årstall\n",
    "nedbor_1980_1989 = df_nedbor[(df_nedbor[\"year\"] >= 1980) & (df_nedbor[\"year\"] <= 1989)]\n",
    "nedbor_1990_1999 = df_nedbor[(df_nedbor[\"year\"] >= 1990) & (df_nedbor[\"year\"] <= 1999)]\n",
    "nedbor_2000_2009 = df_nedbor[(df_nedbor[\"year\"] >= 2000) & (df_nedbor[\"year\"] <= 2009)]\n",
    "nedbor_2010_2020 = df_nedbor[(df_nedbor[\"year\"] >= 2010) & (df_nedbor[\"year\"] <= 2020)]\n",
    "\n",
    "\n",
    "nedbor_1980_1989_median = nedbor_1980_1989[\"values\"].median().round(2)\n",
    "nedbor_1990_1999_median = nedbor_1990_1999[\"values\"].median().round(2)\n",
    "nedbor_2000_2009_median = nedbor_2000_2009[\"values\"].median().round(2)\n",
    "nedbor_2010_2020_median = nedbor_2010_2020[\"values\"].median().round(2)\n",
    "\n",
    "print(\"Medianen for nedbøret for 1980-1989: \", nedbor_1980_1989_median, \"bananer\")\n",
    "print(\"Medianen for nedbøret for 1990-1999: \", nedbor_1990_1999_median, \"bananer\")\n",
    "print(\"Medianen for nedbøret for 2000-2009: \", nedbor_2000_2009_median, \"bananer\")\n",
    "print(\"Medianen for nedbøret for 2010-2020: \", nedbor_2010_2020_median, \"bananer\")\n",
    "\n",
    "\n",
    "\n"
   ]
  },
  {
   "cell_type": "markdown",
   "metadata": {},
   "source": [
    "# Temperatur"
   ]
  },
  {
   "cell_type": "code",
   "execution_count": 38,
   "metadata": {},
   "outputs": [
    {
     "name": "stdout",
     "output_type": "stream",
     "text": [
      "Temperatursmedianen for 1980-1989:  5.85 °C\n",
      "Temperatursmedianen for 1990-1999:  6.55 °C\n",
      "Temperatursmedianen for 2000-2009:  7.2 °C\n",
      "Temperatursmedianen for 2010-2020:  7.3 °C\n"
     ]
    }
   ],
   "source": [
    "\n",
    "#Konverterer år til int (til å gruppere på årstall senere)\n",
    "df_temperatur[\"year\"] = df_temperatur[\"year\"].astype(int)  \n",
    "\n",
    "#Henter ut verdier gruppert på årstall\n",
    "temp_1980_1989 = df_temperatur[(df_temperatur[\"year\"] >= 1980) & (df_temperatur[\"year\"] <= 1989)]\n",
    "temp_1990_1999 = df_temperatur[(df_temperatur[\"year\"] >= 1990) & (df_temperatur[\"year\"] <= 1999)]\n",
    "temp_2000_2009 = df_temperatur[(df_temperatur[\"year\"] >= 2000) & (df_temperatur[\"year\"] <= 2009)]\n",
    "temp_2010_2020 = df_temperatur[(df_temperatur[\"year\"] >= 2010) & (df_temperatur[\"year\"] <= 2020)]\n",
    "\n",
    "\n",
    "temp_1980_1989_median = temp_1980_1989[\"value\"].median().round(2)\n",
    "temp_1990_1999_median = temp_1990_1999[\"value\"].median().round(2)\n",
    "temp_2000_2009_median = temp_2000_2009[\"value\"].median().round(2)\n",
    "temp_2010_2020_median = temp_2010_2020[\"value\"].median().round(2)\n",
    "\n",
    "print(\"Temperatursmedianen for 1980-1989: \", temp_1980_1989_median, \"°C\")\n",
    "print(\"Temperatursmedianen for 1990-1999: \", temp_1990_1999_median, \"°C\")\n",
    "print(\"Temperatursmedianen for 2000-2009: \", temp_2000_2009_median, \"°C\")\n",
    "print(\"Temperatursmedianen for 2010-2020: \", temp_2010_2020_median, \"°C\")\n",
    "\n"
   ]
  },
  {
   "cell_type": "markdown",
   "metadata": {},
   "source": [
    "# Median oppsummering"
   ]
  },
  {
   "cell_type": "code",
   "execution_count": 40,
   "metadata": {},
   "outputs": [
    {
     "data": {
      "text/html": [
       "<div>\n",
       "<style scoped>\n",
       "    .dataframe tbody tr th:only-of-type {\n",
       "        vertical-align: middle;\n",
       "    }\n",
       "\n",
       "    .dataframe tbody tr th {\n",
       "        vertical-align: top;\n",
       "    }\n",
       "\n",
       "    .dataframe thead th {\n",
       "        text-align: right;\n",
       "    }\n",
       "</style>\n",
       "<table border=\"1\" class=\"dataframe\">\n",
       "  <thead>\n",
       "    <tr style=\"text-align: right;\">\n",
       "      <th></th>\n",
       "      <th>Værelement</th>\n",
       "      <th>Verdi</th>\n",
       "      <th>Beskrivelse</th>\n",
       "    </tr>\n",
       "  </thead>\n",
       "  <tbody>\n",
       "    <tr>\n",
       "      <th>0</th>\n",
       "      <td>Skydekket, intervall 1</td>\n",
       "      <td>5.20</td>\n",
       "      <td>Medianen for skydekket fra årsintervallet 1980...</td>\n",
       "    </tr>\n",
       "    <tr>\n",
       "      <th>1</th>\n",
       "      <td>Skydekket, intervall 2</td>\n",
       "      <td>5.30</td>\n",
       "      <td>Medianen for skydekket fra årsintervallet 1990...</td>\n",
       "    </tr>\n",
       "    <tr>\n",
       "      <th>2</th>\n",
       "      <td>Skydekket, intervall 3</td>\n",
       "      <td>5.60</td>\n",
       "      <td>Medianen for skydekket fra årsintervallet 2000...</td>\n",
       "    </tr>\n",
       "    <tr>\n",
       "      <th>3</th>\n",
       "      <td>Skydekket, intervall 4</td>\n",
       "      <td>5.60</td>\n",
       "      <td>Medianen for skydekket fra årsintervallet 2010...</td>\n",
       "    </tr>\n",
       "    <tr>\n",
       "      <th>4</th>\n",
       "      <td>Nedbør</td>\n",
       "      <td>797.40</td>\n",
       "      <td>Median av de daglige verdiene for nedbøres gje...</td>\n",
       "    </tr>\n",
       "    <tr>\n",
       "      <th>5</th>\n",
       "      <td>Temperatur, intervall 1</td>\n",
       "      <td>5.85</td>\n",
       "      <td>Mediantemperaturen fra årsintervalet 1980-1989</td>\n",
       "    </tr>\n",
       "    <tr>\n",
       "      <th>6</th>\n",
       "      <td>Temperatur, intervall 2</td>\n",
       "      <td>6.55</td>\n",
       "      <td>Mediantemperaturen fra årsintervalet 1990-1999</td>\n",
       "    </tr>\n",
       "    <tr>\n",
       "      <th>7</th>\n",
       "      <td>Temperatur, intervall 3</td>\n",
       "      <td>7.20</td>\n",
       "      <td>Mediantemperaturen fra årsintervalet 2000-2009</td>\n",
       "    </tr>\n",
       "    <tr>\n",
       "      <th>8</th>\n",
       "      <td>Temperatur, intervall 4</td>\n",
       "      <td>7.30</td>\n",
       "      <td>Mediantemperaturen fra årsintervalet 2010-2020</td>\n",
       "    </tr>\n",
       "  </tbody>\n",
       "</table>\n",
       "</div>"
      ],
      "text/plain": [
       "                Værelement   Verdi  \\\n",
       "0   Skydekket, intervall 1    5.20   \n",
       "1   Skydekket, intervall 2    5.30   \n",
       "2   Skydekket, intervall 3    5.60   \n",
       "3   Skydekket, intervall 4    5.60   \n",
       "4                   Nedbør  797.40   \n",
       "5  Temperatur, intervall 1    5.85   \n",
       "6  Temperatur, intervall 2    6.55   \n",
       "7  Temperatur, intervall 3    7.20   \n",
       "8  Temperatur, intervall 4    7.30   \n",
       "\n",
       "                                         Beskrivelse  \n",
       "0  Medianen for skydekket fra årsintervallet 1980...  \n",
       "1  Medianen for skydekket fra årsintervallet 1990...  \n",
       "2  Medianen for skydekket fra årsintervallet 2000...  \n",
       "3  Medianen for skydekket fra årsintervallet 2010...  \n",
       "4  Median av de daglige verdiene for nedbøres gje...  \n",
       "5     Mediantemperaturen fra årsintervalet 1980-1989  \n",
       "6     Mediantemperaturen fra årsintervalet 1990-1999  \n",
       "7     Mediantemperaturen fra årsintervalet 2000-2009  \n",
       "8     Mediantemperaturen fra årsintervalet 2010-2020  "
      ]
     },
     "metadata": {},
     "output_type": "display_data"
    }
   ],
   "source": [
    "data = [\n",
    "    [\"Skydekket, intervall 1\", sky_1980_1989_median, \"Medianen for skydekket fra årsintervallet 1980-1989\"],\n",
    "    [\"Skydekket, intervall 2\", sky_1990_1999_median, \"Medianen for skydekket fra årsintervallet 1990-1999\"],\n",
    "    [\"Skydekket, intervall 3\", sky_2000_2009_median, \"Medianen for skydekket fra årsintervallet 2000-2009\"],\n",
    "    [\"Skydekket, intervall 4\", sky_2010_2020_median, \"Medianen for skydekket fra årsintervallet 2010-2020\"],\n",
    "    \n",
    "    [\"Nedbør\", nedbor_median, \"Median av de daglige verdiene for nedbøres gjennom hele 2023\"],\n",
    "    \n",
    "    [\"Temperatur, intervall 1\", temp_1980_1989_median, \"Mediantemperaturen fra årsintervalet 1980-1989\"],\n",
    "    [\"Temperatur, intervall 2\", temp_1990_1999_median, \"Mediantemperaturen fra årsintervalet 1990-1999\"],\n",
    "    [\"Temperatur, intervall 3\", temp_2000_2009_median, \"Mediantemperaturen fra årsintervalet 2000-2009\"],\n",
    "    [\"Temperatur, intervall 4\", temp_2010_2020_median, \"Mediantemperaturen fra årsintervalet 2010-2020\"]\n",
    "]\n",
    "\n",
    "df_median = pd.DataFrame(data, columns=[\"Værelement\", \"Verdi\", \"Beskrivelse\"])\n",
    "display(df_median)"
   ]
  }
 ],
 "metadata": {
  "kernelspec": {
   "display_name": "venv",
   "language": "python",
   "name": "python3"
  },
  "language_info": {
   "codemirror_mode": {
    "name": "ipython",
    "version": 3
   },
   "file_extension": ".py",
   "mimetype": "text/x-python",
   "name": "python",
   "nbconvert_exporter": "python",
   "pygments_lexer": "ipython3",
   "version": "3.13.2"
  }
 },
 "nbformat": 4,
 "nbformat_minor": 2
}
