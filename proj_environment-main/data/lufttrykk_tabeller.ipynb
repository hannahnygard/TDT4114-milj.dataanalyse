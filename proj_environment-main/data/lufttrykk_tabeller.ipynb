{
 "cells": [
  {
   "cell_type": "code",
   "execution_count": 4,
   "metadata": {},
   "outputs": [
    {
     "name": "stdout",
     "output_type": "stream",
     "text": [
      "Suksess! JSON er nå omgjort til en database\n"
     ]
    }
   ],
   "source": [
    "import pandas as pd\n",
    "import sqlite3\n",
    "\n",
    "df = pd.read_json(\"frost_lufttrykk.json\")\n",
    "\n",
    "df = pd.json_normalize(df.to_dict(orient=\"records\"))\n",
    "\n",
    "df = df.apply(lambda kolonne: kolonne.apply(lambda x: str(x) if isinstance(x, (dict, list)) else x))\n",
    "\n",
    "kobling = sqlite3.connect(\"frost_Database.db\")\n",
    "\n",
    "df.to_sql(\"tabell\", kobling, if_exists= \"replace\", index=False)\n",
    "\n",
    "print(\"Suksess! JSON er nå omgjort til en database\")\n",
    "\n",
    "\n",
    "\n",
    "\n",
    "\n",
    "\n"
   ]
  }
 ],
 "metadata": {
  "kernelspec": {
   "display_name": "venv",
   "language": "python",
   "name": "python3"
  },
  "language_info": {
   "codemirror_mode": {
    "name": "ipython",
    "version": 3
   },
   "file_extension": ".py",
   "mimetype": "text/x-python",
   "name": "python",
   "nbconvert_exporter": "python",
   "pygments_lexer": "ipython3",
   "version": "3.11.9"
  }
 },
 "nbformat": 4,
 "nbformat_minor": 2
}
