{
 "cells": [
  {
   "cell_type": "markdown",
   "id": "831a6402",
   "metadata": {},
   "source": [
    "# Refleksjonsnotat, gruppe 18\n",
    "*Antall ord (uten spørsmål): 777 ord*"
   ]
  },
  {
   "cell_type": "markdown",
   "id": "7b848304",
   "metadata": {},
   "source": [
    "* **Refleksjoner over hva du har lært om datainnsamling, databehandling, dataanalyse og visualisering.**\n",
    "Gjennom prosjektarbeidet har vi fått en dypere forståelse av hvordan man samler inn, behandler og analyserer data før visualisering. Vi har også lært hvor avgjørende datakvalitet og struktur er for meningsfulle resultater. Det kom tydelig frem at forarbeid med datarens og transformasjon var like viktig som selve analysen, da det sikret gode resultater. Gjennom prosessen erfarte vi også hvordan visualisering gjør det lettere å formidle innsikt, og hvor viktig det er å velge riktig diagramtype for å understøtte ulike typer data og budskap.\n",
    "\n",
    "* **Beskrivelse av nye ferdigheter som ble tilegnet, for eksempel bruk av spesifikke biblioteker (Pandas, NumPy, Matplotlib, etc.) og programmeringskonsepter.**\n",
    "Vi har alle utviklet ferdigheter i bruk av viktige Python-biblioteker som Pandas for databehandling, NumPy for beregninger og Matplotlib og Seaborn for visualisering. Vi har også blitt tryggere på å skrive funksjoner og strukturere kode i klasser. Arbeidet med å utforme grafer har gitt mye læring, særlig når det gjelder valg av passende akser, titler og farger. Det har også vært viktig å forstå hvordan statistiske mål som gjennomsnitt, median og standardavvik anvendes i visualiseringer, noe som har gitt økt innsikt i hvordan analyser bør gjennomføres og presenteres på en presis og oversiktlig måte.\n",
    "\n",
    "* **Identifisering av spesifikke utfordringer som oppstod under prosjektet, for eksempel problemer med datakvalitet, håndtering av manglende verdier, eller tekniske problemer med API-er.**\n",
    "Gjennom prosjektprosessen møtte vi flere utfordringer. I oppstartsfasen handlet det særlig om å tolke oppgaven riktig, men ved å sette tydelige rammer kom vi godt i gang. API-kall og henting av ekstern data var nytt for oss og krevde tid å sette seg inn i. Å lage en database var også uvant, men ble lettere takket være et parallelt databasefag. Vi støtte også på tekniske problemer knyttet til programvaren på PC-en, men med hjelp fra Orakeltjenesten fikk vi løst dette.\n",
    "\n",
    "* **Refleksjoner over samarbeidet i gruppen, inkludert hvordan oppgaver ble fordelt og hvordan kommunikasjonen fungerer.**\n",
    "Samarbeidet i gruppen har fungert svært godt gjennom hele prosjektperioden. Kommunikasjonen har vært effektiv, både gjennom fysiske møter, men også gjennom digitale plattformer, når det har vært behov for det. Vi fordelte oppgavene likt mellom oss og gikk gjennom resultatene i plenum for å sikre kvalitet og unngå slurve feil. I tillegg har det også vært en lav terskel for å spørre om hjelp.  Alle medlemmer har vært engasjerte og bidratt jevnt, og det har aldri vært problemer med manglende innsats eller utilgjengelighet. \n",
    "\n",
    "* **Vurdering av de endelige resultatene, inkludert kvalitet på visualisering og analyse.**\n",
    "Vi vurderer de endelige resultatene som gode, ettersom de presenteres på en ryddig og strukturert måte. Visualiseringene er tydelige, og fargebruken er bevisst valgt for å skape gode kontraster mellom grafene. Dette gjør det enkelt å skille mellom de ulike resultatene.\n",
    "Når det gjelder prediksjonene for fremtidige verdier, ser vi at datagrunnlaget kunne vært styrket med flere målinger. Et større datasett kunne gitt modellen et bedre grunnlag for mer presise prediksjoner. Likevel gir analysen en nyttig indikasjon på trender og mulige utviklinger. \n",
    "I analysen er det tatt høyde for mulige skjevheter i dataene. Det er gjennomført kontroll for duplikater og manglende verdier, som håndteres dersom det er nødvendig.  \n",
    "Ideer til hvordan prosjektet kan forbedres i fremtiden, både i forhold til tekniske aspekter og prosjektledelse.\n",
    "Prosjektet kan forbedres med interaktive widgets for valg av tidsperiode område eller datatype. Dette gir brukeren økt kontroll, fleksibilitet og en mer tilpasset visualisering. I tillegg kan det inkluderes flere miljøvariabler, slik som luftkvalitet og sur nedbør. Dette gir mer presise prediksjoner og et bedre grunnlag for å forstå miljøendringer over tid. \n",
    "Prosjektledelsen kan styrkes med ukentlige statusmøter og en tydelig fremdriftsplan. Dette sikrer god kommunikasjon, jevn innsats og bedre oversikt for alle gruppemedlemmer. \n",
    "\n",
    "* **Mulige retninger for videre forskning eller utvikling basert på erfaring fra prosjektet.**\n",
    "Når det gjelder forskning og utvikling er utvidelse av programmet med mulighet for flere værvariabeler og byer et viktig punkt. I tillegg kan bruken av mer avanserte maskinlæringsmodeller gi et mer realistisk og konkret bilde på fremtiden. Sett i lys av vår fiktive oppgavetekst kan det å koble dataen mot faktisk infrastruktur være en god ide, da dette lar oss undersøke konkrete sammenhenger mellom struktur og værtendenser, og dermed gi bedre og viktigere anbefalinger til en kunde. \n",
    "\n",
    "* **Oppsummering av de viktigste læringspunktene og hvordan prosjektet har bidratt til studentenes forståelse av datavitenskap og miljøstudier.**\n",
    "Prosjektet har latt oss ta læringen i egne hender, og selv utforske alle de muligheter datavitenskap gir oss innenfor felt som miljøstudier. Vi har lært nye teknikker innen hele prosessen i en dataanalyse, fra datainnhenting gjennom API-kall, til prediksjon av fremtidige tendenser. Viktigst av alt er likevel den praktiske tilnærmingen til faget, i form av samkoding i Git og alle elementene dette medfører. Dette har styrket vårt samarbeid, samt forståelse av fagområdet.  \n",
    "\n",
    "* **Personlige tanker om hvordan erfaringene fra prosjektet kan brukes i fremtidige studier eller yrkesliv.**\n",
    "Erfaringene om samarbeid er nok en av de viktigste vi tar med oss, og noe vi absolutt ser for oss at er nyttig i videre studier. God kommunikasjon mellom medlemmene, jevn fordeling av arbeidsoppgaver og god utnyttelse av hverandres styrker er noe vi har trent på. Samtidig er kunnskapen vi har tatt med oss svært relevante dersom vi velger å fortsette i dette fagområdet og ta vår grad innen datavitenskap. Forståelsen av industristandarden og den praktiske anvendelsen av programmering, har vært viktig for å se nytten i den teorien vi tidligere har lært, og er noe vi absolutt ser på som verdifullt for vår vei videre. \n"
   ]
  }
 ],
 "metadata": {
  "language_info": {
   "name": "python"
  }
 },
 "nbformat": 4,
 "nbformat_minor": 5
}
