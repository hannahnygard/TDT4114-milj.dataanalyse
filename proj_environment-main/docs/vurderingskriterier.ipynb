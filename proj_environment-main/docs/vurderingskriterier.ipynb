{
 "cells": [
  {
   "cell_type": "markdown",
   "id": "ca2ad17f",
   "metadata": {},
   "source": [
    "# Del 1\n",
    "### Oppgave 2\n",
    "\n",
    "### Oppgave 3"
   ]
  },
  {
   "cell_type": "markdown",
   "id": "2d75ca39",
   "metadata": {},
   "source": [
    "# Del 2\n",
    "### Oppgave 4\n",
    "\n",
    "### Oppgave 5\n",
    "\n",
    "### Oppgave 6"
   ]
  }
 ],
 "metadata": {
  "language_info": {
   "name": "python"
  }
 },
 "nbformat": 4,
 "nbformat_minor": 5
}
