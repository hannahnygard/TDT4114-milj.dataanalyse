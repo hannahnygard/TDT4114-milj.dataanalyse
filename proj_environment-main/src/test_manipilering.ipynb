{
 "cells": [
  {
   "cell_type": "code",
   "execution_count": 177,
   "metadata": {},
   "outputs": [],
   "source": [
    "import sys\n",
    "import os\n",
    "\n",
    "# Legg til src-mappen i sys.path\n",
    "sys.path.append(os.path.abspath(os.path.join(os.getcwd(), '../src')))\n",
    "\n",
    "from data_rens import DataRens"
   ]
  },
  {
   "cell_type": "markdown",
   "metadata": {},
   "source": [
    "# Nedbør"
   ]
  },
  {
   "cell_type": "code",
   "execution_count": 178,
   "metadata": {},
   "outputs": [
    {
     "name": "stdout",
     "output_type": "stream",
     "text": [
      "Fjern verdi for år 1982 (rad: 2)\n",
      "Legger til duplikat for år 1991\n",
      "Antall duplikater funnet: 1\n",
      "Antall år med manglende verdi: 1\n",
      "Uten verdi:\n",
      "   year  value unit\n",
      "2  1982    NaN   mm\n"
     ]
    },
    {
     "data": {
      "text/html": [
       "<div>\n",
       "<style scoped>\n",
       "    .dataframe tbody tr th:only-of-type {\n",
       "        vertical-align: middle;\n",
       "    }\n",
       "\n",
       "    .dataframe tbody tr th {\n",
       "        vertical-align: top;\n",
       "    }\n",
       "\n",
       "    .dataframe thead th {\n",
       "        text-align: right;\n",
       "    }\n",
       "</style>\n",
       "<table border=\"1\" class=\"dataframe\">\n",
       "  <thead>\n",
       "    <tr style=\"text-align: right;\">\n",
       "      <th></th>\n",
       "      <th>year</th>\n",
       "      <th>value</th>\n",
       "      <th>avg_per_day</th>\n",
       "      <th>unit</th>\n",
       "      <th>days</th>\n",
       "    </tr>\n",
       "  </thead>\n",
       "  <tbody>\n",
       "    <tr>\n",
       "      <th>0</th>\n",
       "      <td>1980</td>\n",
       "      <td>766.8</td>\n",
       "      <td>2.10</td>\n",
       "      <td>mm</td>\n",
       "      <td>366</td>\n",
       "    </tr>\n",
       "    <tr>\n",
       "      <th>1</th>\n",
       "      <td>1981</td>\n",
       "      <td>712.2</td>\n",
       "      <td>1.95</td>\n",
       "      <td>mm</td>\n",
       "      <td>365</td>\n",
       "    </tr>\n",
       "    <tr>\n",
       "      <th>2</th>\n",
       "      <td>1982</td>\n",
       "      <td>NaN</td>\n",
       "      <td>NaN</td>\n",
       "      <td>mm</td>\n",
       "      <td>365</td>\n",
       "    </tr>\n",
       "    <tr>\n",
       "      <th>3</th>\n",
       "      <td>1983</td>\n",
       "      <td>646.1</td>\n",
       "      <td>1.77</td>\n",
       "      <td>mm</td>\n",
       "      <td>365</td>\n",
       "    </tr>\n",
       "    <tr>\n",
       "      <th>4</th>\n",
       "      <td>1984</td>\n",
       "      <td>871.4</td>\n",
       "      <td>2.38</td>\n",
       "      <td>mm</td>\n",
       "      <td>366</td>\n",
       "    </tr>\n",
       "  </tbody>\n",
       "</table>\n",
       "</div>"
      ],
      "text/plain": [
       "   year  value  avg_per_day unit  days\n",
       "0  1980  766.8         2.10   mm   366\n",
       "1  1981  712.2         1.95   mm   365\n",
       "2  1982    NaN          NaN   mm   365\n",
       "3  1983  646.1         1.77   mm   365\n",
       "4  1984  871.4         2.38   mm   366"
      ]
     },
     "metadata": {},
     "output_type": "display_data"
    }
   ],
   "source": [
    "# Oppretter filstien til JSONfil med nedbør\n",
    "nedbor_fil = \"../data/frost_nedbor.json\"\n",
    "\n",
    "# Oppretter et nedbørs-objekt i DataRens()\n",
    "rens_nedbor = DataRens()\n",
    "\n",
    "# Bruker metode fra klassen for å konvertere JSON til dataframe\n",
    "df_nedbor = rens_nedbor.fra_json_til_dataframe(nedbor_fil)\n",
    "\n",
    "# Bruke metode for å rense Dataframen\n",
    "df_nedbor_renset = rens_nedbor.rens_DataFrame(df_nedbor)  # Bruk denne!!\n",
    "\n",
    "# Legge til nye gjennomsnittlige verdier\n",
    "df_med_gjennomsnittlige_verdier = rens_nedbor.nye_nedbør_verdier(df_nedbor_renset)\n",
    "\n",
    "# Printer ut renset dataframe av nedbør\n",
    "display(df_med_gjennomsnittlige_verdier.head())\n"
   ]
  },
  {
   "cell_type": "markdown",
   "metadata": {},
   "source": [
    "# Skydekke"
   ]
  },
  {
   "cell_type": "code",
   "execution_count": 179,
   "metadata": {},
   "outputs": [
    {
     "name": "stdout",
     "output_type": "stream",
     "text": [
      "Fjern verdi for år 1993 (rad: 13)\n",
      "Legger til duplikat for år 1997\n",
      "Antall duplikater funnet: 1\n",
      "Antall år med manglende verdi: 1\n",
      "Uten verdi:\n",
      "    year  value   unit\n",
      "13  1993    NaN  octas\n"
     ]
    },
    {
     "data": {
      "text/html": [
       "<div>\n",
       "<style scoped>\n",
       "    .dataframe tbody tr th:only-of-type {\n",
       "        vertical-align: middle;\n",
       "    }\n",
       "\n",
       "    .dataframe tbody tr th {\n",
       "        vertical-align: top;\n",
       "    }\n",
       "\n",
       "    .dataframe thead th {\n",
       "        text-align: right;\n",
       "    }\n",
       "</style>\n",
       "<table border=\"1\" class=\"dataframe\">\n",
       "  <thead>\n",
       "    <tr style=\"text-align: right;\">\n",
       "      <th></th>\n",
       "      <th>year</th>\n",
       "      <th>value</th>\n",
       "      <th>unit</th>\n",
       "    </tr>\n",
       "  </thead>\n",
       "  <tbody>\n",
       "    <tr>\n",
       "      <th>0</th>\n",
       "      <td>1980</td>\n",
       "      <td>5.0</td>\n",
       "      <td>octas</td>\n",
       "    </tr>\n",
       "    <tr>\n",
       "      <th>1</th>\n",
       "      <td>1981</td>\n",
       "      <td>5.2</td>\n",
       "      <td>octas</td>\n",
       "    </tr>\n",
       "    <tr>\n",
       "      <th>2</th>\n",
       "      <td>1982</td>\n",
       "      <td>5.3</td>\n",
       "      <td>octas</td>\n",
       "    </tr>\n",
       "    <tr>\n",
       "      <th>3</th>\n",
       "      <td>1983</td>\n",
       "      <td>5.1</td>\n",
       "      <td>octas</td>\n",
       "    </tr>\n",
       "    <tr>\n",
       "      <th>4</th>\n",
       "      <td>1984</td>\n",
       "      <td>5.5</td>\n",
       "      <td>octas</td>\n",
       "    </tr>\n",
       "  </tbody>\n",
       "</table>\n",
       "</div>"
      ],
      "text/plain": [
       "   year  value   unit\n",
       "0  1980    5.0  octas\n",
       "1  1981    5.2  octas\n",
       "2  1982    5.3  octas\n",
       "3  1983    5.1  octas\n",
       "4  1984    5.5  octas"
      ]
     },
     "metadata": {},
     "output_type": "display_data"
    }
   ],
   "source": [
    "#Oppretter filstien til JSONfil med nedbør\n",
    "skydekke_fil = \"../data/frost_skydekke.json\"\n",
    "\n",
    "#Oppreter et nedbørs-objekt i DataRens() \n",
    "rens_skydekke = DataRens()\n",
    "\n",
    "#Bruker metode fra klassen for å konvertere JSON til dataframe\n",
    "df_skydekke = rens_skydekke.fra_json_til_dataframe(skydekke_fil)\n",
    "\n",
    "#Bruke metode for å rense Dataframen\n",
    "df_skydekke_renset = rens_nedbor.rens_DataFrame(df_skydekke)\n",
    "\n",
    "#Printer ut renset dataframe av nedbør:\n",
    "display(df_skydekke_renset.head())"
   ]
  },
  {
   "cell_type": "markdown",
   "metadata": {},
   "source": [
    "# Temperatur"
   ]
  },
  {
   "cell_type": "code",
   "execution_count": 180,
   "metadata": {},
   "outputs": [
    {
     "name": "stdout",
     "output_type": "stream",
     "text": [
      "Fjern verdi for år 1989 (rad: 9)\n",
      "Legger til duplikat for år 1986\n",
      "Antall duplikater funnet: 1\n",
      "Antall år med manglende verdi: 1\n",
      "Uten verdi:\n",
      "   year  value  unit\n",
      "9  1989    NaN  degC\n"
     ]
    },
    {
     "data": {
      "text/html": [
       "<div>\n",
       "<style scoped>\n",
       "    .dataframe tbody tr th:only-of-type {\n",
       "        vertical-align: middle;\n",
       "    }\n",
       "\n",
       "    .dataframe tbody tr th {\n",
       "        vertical-align: top;\n",
       "    }\n",
       "\n",
       "    .dataframe thead th {\n",
       "        text-align: right;\n",
       "    }\n",
       "</style>\n",
       "<table border=\"1\" class=\"dataframe\">\n",
       "  <thead>\n",
       "    <tr style=\"text-align: right;\">\n",
       "      <th></th>\n",
       "      <th>year</th>\n",
       "      <th>value</th>\n",
       "      <th>unit</th>\n",
       "    </tr>\n",
       "  </thead>\n",
       "  <tbody>\n",
       "    <tr>\n",
       "      <th>0</th>\n",
       "      <td>1980</td>\n",
       "      <td>5.4</td>\n",
       "      <td>degC</td>\n",
       "    </tr>\n",
       "    <tr>\n",
       "      <th>1</th>\n",
       "      <td>1981</td>\n",
       "      <td>5.2</td>\n",
       "      <td>degC</td>\n",
       "    </tr>\n",
       "    <tr>\n",
       "      <th>2</th>\n",
       "      <td>1982</td>\n",
       "      <td>6.2</td>\n",
       "      <td>degC</td>\n",
       "    </tr>\n",
       "    <tr>\n",
       "      <th>3</th>\n",
       "      <td>1983</td>\n",
       "      <td>7.0</td>\n",
       "      <td>degC</td>\n",
       "    </tr>\n",
       "    <tr>\n",
       "      <th>4</th>\n",
       "      <td>1984</td>\n",
       "      <td>6.7</td>\n",
       "      <td>degC</td>\n",
       "    </tr>\n",
       "  </tbody>\n",
       "</table>\n",
       "</div>"
      ],
      "text/plain": [
       "   year  value  unit\n",
       "0  1980    5.4  degC\n",
       "1  1981    5.2  degC\n",
       "2  1982    6.2  degC\n",
       "3  1983    7.0  degC\n",
       "4  1984    6.7  degC"
      ]
     },
     "metadata": {},
     "output_type": "display_data"
    }
   ],
   "source": [
    "#Oppretter filstien til JSONfil med nedbør\n",
    "temp_fil = \"../data/frost_temp.json\"\n",
    "\n",
    "#Oppreter et nedbørs-objekt i DataRens() \n",
    "rens_temp = DataRens()\n",
    "\n",
    "#Bruker metode fra klassen for å konvertere JSON til dataframe\n",
    "df_temp = rens_temp.fra_json_til_dataframe(temp_fil)\n",
    "\n",
    "#Bruke metode for å rense Dataframen\n",
    "df_temp_renset = rens_temp.rens_DataFrame(df_temp)\n",
    "\n",
    "#Printer ut renset dataframe av nedbør:\n",
    "display(df_temp_renset.head())"
   ]
  }
 ],
 "metadata": {
  "kernelspec": {
   "display_name": "Python 3",
   "language": "python",
   "name": "python3"
  },
  "language_info": {
   "codemirror_mode": {
    "name": "ipython",
    "version": 3
   },
   "file_extension": ".py",
   "mimetype": "text/x-python",
   "name": "python",
   "nbconvert_exporter": "python",
   "pygments_lexer": "ipython3",
   "version": "3.13.2"
  }
 },
 "nbformat": 4,
 "nbformat_minor": 2
}
